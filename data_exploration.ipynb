{
 "cells": [
  {
   "cell_type": "markdown",
   "id": "11566294",
   "metadata": {},
   "source": [
    "# Data Import"
   ]
  },
  {
   "cell_type": "code",
   "execution_count": 47,
   "id": "06f0fa12",
   "metadata": {},
   "outputs": [],
   "source": [
    "import pandas as pd\n",
    "import numpy as np\n",
    "from sklearn.preprocessing import MinMaxScaler as scaler\n",
    "\n",
    "def import_feature_data(file_name):\n",
    "    df = pd.read_csv('./csv_data/INS-W_1/FeatureData/'+file_name+'.csv')\n",
    "    return df\n",
    "\n",
    "def import_survey_data(file_name):\n",
    "    df = pd.read_csv('./csv_data/INS-W_1/SurveyData/'+file_name+'.csv')\n",
    "    return df\n",
    "\n",
    "def normalize_data(df):\n",
    "    data_numeric = df.select_dtypes(include=[float])\n",
    "    data_normalized = pd.DataFrame(scaler.fit_transform(data_numeric), columns=data_numeric.columns)\n",
    "    data_normalized = data_normalized.dropna(axis=1, how='all')\n",
    "    return data_normalized"
   ]
  },
  {
   "cell_type": "code",
   "execution_count": null,
   "id": "a1c738ef",
   "metadata": {},
   "outputs": [
    {
     "name": "stderr",
     "output_type": "stream",
     "text": [
      "C:\\Users\\darkenral\\AppData\\Local\\Temp\\ipykernel_35456\\970938663.py:6: DtypeWarning: Columns (207,208,209,210,211,212,213,214,215,216,217,218,219,220,221,222,223,224,225,226,227,228,229,230,231,232,233,234,235,236,237,238,239,240,243,244,264,286,345,346,347,348,349,350,351,352,353,354,355,356,357,358,359,360,361,362,363,364,365,366,408,409,410,819,820,821,822,823,824,825,826,827,828,829,830,831,832,833,834,835,836,837,838,839,840,841,842,843,844,845,846,847,848,849,850,851,852,855,856,864,876,898,957,958,959,960,961,962,963,964,965,966,967,968,969,970,971,972,973,974,975,976,977,978,1020,1021,1022,1447,1448,1449,1450,1451,1452,1453,1454,1455,1456,1457,1458,1459,1460,1461,1462,1463,1464,1467,1468,1472,1473,1474,1475,1476,1477,1478,1479,1480,1484,1485,1486,1487,1488,1489,1490,1491,1492,1510,1534,1535,1536,1537,1538,1539,1540,1574,1575,1576,1577,1578,1579,1580,1581,1582,1583,1584,1585,1586,1587,1588,1589,1590,1632,1633,1634,2043,2044,2045,2046,2047,2048,2049,2050,2051,2052,2053,2054,2055,2056,2057,2058,2059,2060,2061,2062,2063,2064,2065,2066,2067,2068,2069,2070,2071,2072,2073,2074,2075,2076,2079,2080,2088,2100,2122,2146,2147,2148,2149,2150,2151,2152,2181,2182,2183,2184,2186,2187,2188,2189,2190,2191,2192,2193,2194,2195,2196,2197,2198,2199,2200,2201,2202,2244,2245,2246,2671,2672,2673,2674,2675,2676,2677,2678,2679,2680,2681,2682,2683,2684,2685,2686,2687,2688,2691,2692,2696,2697,2698,2699,2700,2701,2702,2703,2704,2712,2734,2758,2759,2760,2761,2762,2763,2764,2772,2773,2774,2775,2776,2777,2778,2784,2798,2799,2800,2801,2802,2803,2804,2805,2806,2807,2808,2809,2810,2811,2812,2813,2814,2856,2857,2858,3283,3284,3285,3286,3287,3288,3289,3290,3291,3292,3293,3294,3295,3296,3297,3298,3299,3300,3301,3302,3303,3304,3305,3306,3307,3308,3309,3310,3311,3312,3313,3314,3315,3316,3317,3318,3319,3320,3321,3322,3323,3324,3325,3326,3327,3328,3329,3346,3370,3371,3372,3373,3374,3375,3376,3384,3385,3386,3387,3388,3389,3390,3396,3410,3411,3412,3413,3414,3415,3416,3417,3418,3419,3420,3421,3422,3423,3424,3425,3426,3468,3469,3470,3895,3896,3897,3898,3899,3900,3901,3902,3903,3904,3905,3906,3907,3908,3909,3910,3911,3912,3913,3914,3915,3916,3917,3918,3919,3920,3921,3922,3923,3924,3925,3926,3927,3928,3929,3930,3931,3932,3933,3934,3935,3936,3937,3938,3939,3940,3941,3948,3958,3968,3982,3983,3984,3985,3986,3987,3988,3989,3990,3991,3992,3993,3994,3995,3996,3997,3998,3999,4000,4001,4002,4003,4004,4005,4006,4007,4008,4009,4022,4023,4024,4025,4026,4027,4028,4029,4030,4031,4032,4033,4034,4035,4036,4037,4038,4080,4081,4082,4491,4492,4493,4494,4495,4496,4497,4498,4499,4500,4501,4502,4503,4504,4505,4506,4507,4508,4509,4510,4511,4512,4513,4514,4515,4516,4517,4518,4519,4520,4521,4522,4523,4524,4527,4528,4536,4548,4570,4594,4595,4596,4597,4598,4599,4600,4629,4630,4631,4632,4633,4634,4635,4636,4637,4638,4639,4640,4641,4642,4643,4644,4645,4646,4647,4648,4649,4650,4692,4693,4694,5103,5104,5105,5106,5107,5108,5109,5110,5111,5112,5113,5114,5115,5116,5117,5118,5119,5120,5121,5122,5123,5124,5125,5126,5127,5128,5129,5130,5131,5132,5133,5134,5135,5136,5139,5140,5144,5145,5146,5147,5148,5149,5150,5151,5152,5156,5157,5158,5159,5160,5161,5162,5163,5164,5182,5206,5207,5208,5209,5210,5211,5212,5213,5214,5215,5216,5217,5218,5219,5220,5221,5222,5223,5224,5225,5226,5227,5228,5229,5230,5231,5232,5233,5241,5242,5243,5244,5245,5246,5247,5248,5249,5250,5251,5252,5253,5254,5255,5256,5257,5258,5259,5260,5261,5262,5304,5305,5306) have mixed types. Specify dtype option on import or set low_memory=False.\n",
      "  df = pd.read_csv('./csv_data/INS-W_1/FeatureData/'+file_name+'.csv')\n"
     ]
    }
   ],
   "source": [
    "rapids = import_feature_data('rapids')\n",
    "rapids.drop(columns=['Unnamed: 0'], inplace=True)\n",
    "rapids.set_index('pid', inplace=True)\n",
    "\n",
    "# Importing survey data, merge it with rapids data on PID\n",
    "dep_endterm = import_survey_data('dep_endterm')\n",
    "dep_endterm.drop(columns=['Unnamed: 0'], inplace=True)\n",
    "dep_endterm.set_index('pid', inplace=True)\n",
    "\n",
    "rapids = rapids.merge(dep_endterm, left_index=True, right_index=True)\n",
    "rapids.reset_index(inplace=True)\n",
    "rapids.drop(columns='date_y', inplace=True)\n",
    "rapids.rename(columns={'date_x':'date'}, inplace=True)\n",
    "\n",
    "# Filter data based on timeframe\n",
    "rapids_14dhist = rapids.filter(regex=('.*14dhist|^date$|^pid$|^dep$'),axis=1)\n",
    "rapids_7dhist = rapids.filter(regex=('.*7dhist|^date$|^pid$|^dep$'))\n",
    "rapids_afternoon = rapids.filter(regex=('.*afternoon|^date$|^pid$|^dep$'))\n",
    "rapids_allday = rapids.filter(regex=('.*allday|^date$|^pid$|^dep$'))\n",
    "rapids_evening = rapids.filter(regex=('.*evening|^date$|^pid$|^dep$'))\n",
    "rapids_morning = rapids.filter(regex=('.*morning|^date$|^pid$|^dep$'))\n",
    "rapids_night = rapids.filter(regex=('.*night|^date$|^pid$|^dep$'))\n",
    "rapids_weekday = rapids.filter(regex=('.*weekday|^date$|^pid$|^dep$'))\n",
    "rapids_weekend = rapids.filter(regex=('.*weekend|^date$|^pid$|^dep$'))"
   ]
  }
 ],
 "metadata": {
  "kernelspec": {
   "display_name": "Python 3",
   "language": "python",
   "name": "python3"
  },
  "language_info": {
   "codemirror_mode": {
    "name": "ipython",
    "version": 3
   },
   "file_extension": ".py",
   "mimetype": "text/x-python",
   "name": "python",
   "nbconvert_exporter": "python",
   "pygments_lexer": "ipython3",
   "version": "3.12.3"
  }
 },
 "nbformat": 4,
 "nbformat_minor": 5
}
