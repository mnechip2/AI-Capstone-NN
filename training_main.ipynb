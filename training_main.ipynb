{
 "cells": [
  {
   "cell_type": "markdown",
   "id": "84a94fbb",
   "metadata": {},
   "source": [
    "\n",
    "# Preprocessing & Training\n",
    "\n",
    "## NeuroSense Analytics \n",
    "\n",
    "### v0.1.5\n",
    "\n",
    "#### Planned Features  \n",
    "\n",
    "- Dedicated preprocessor class for LSTM model\n",
    "- LSTM model class for training\n",
    "- Pipelining preprocessing into training\n",
    "- Hyperparameter optimisation using Optuna\n"
   ]
  },
  {
   "cell_type": "markdown",
   "id": "fd096230",
   "metadata": {},
   "source": [
    "# Documentation  \n",
    "\n",
    "## DataPreprocessor  \n",
    "\n",
    "Creating a `preprocessor` class to automate the import workflow - preprocessor handles data import, datatype casting, one-hot encoding, MICE imputation, joining feature data with survey data and returns a Polars dataframe or NumPy series.  \n",
    "\n",
    "Output is in the shape of `batch_size`, `time_steps`, `features` for LSTM processing.   \n",
    "\n",
    "> ### Parameters:  \n",
    "\n",
    "- `path`: *`{1, 2, 3, 4}`*  \n",
    "Data path to use (INS_W1 = `1`, INS_W2 = `2`, INS_W3 = `3`, INS_W4 = `4`)  \n",
    "\n",
    "- `imputer_max_iter`: *`int`, default = `10`*  \n",
    "Max amount of iterations for IterativeImputer.  \n",
    "\n",
    "- `imputer_random_state`: *`int`, default = `42`*  \n",
    "Imputer random state.  \n",
    "\n",
    "- `nearest_features`: *`int`, default = `None`*  \n",
    "How many neighbours to sample when imputing.  \n",
    "\n",
    "- `strategy`: *`{‘mean’, ‘median’, ‘most_frequent’, ‘constant’}`, default = `median`*  \n",
    "What strategy to use when imputing  \n",
    "\n",
    "- `impute`: *`bool`, default = `True`*  \n",
    "Whether or not to run imputation.  \n",
    "\n",
    "- `exclude_history`: *`bool`, default = `True`*  \n",
    "Whether or not to exclude 14- and 7-day histories during preprocessing.\n",
    "\n",
    "> ### Functions:  \n",
    "\n",
    "- `import_csv_feature_data(csv)`:  \n",
    "Imports and normalises feature dataset. Returns `pl.DataFrame`.\n",
    "\n",
    "    > Parameters:  \n",
    "\n",
    "    - `csv`: *`str`*   \n",
    "    File name of csv to be processed.  \n",
    "\n",
    "- `import_csv_survey_data(csv)`:  \n",
    "Imports and normalises survey dataset. Returns `pl.DataFrame`. \n",
    "\n",
    "    > Parameters:  \n",
    "\n",
    "    - `csv`: *`str`*  \n",
    "    File name of csv to be processed.  \n",
    "    \n",
    "- `import_dep_endterm()`:  \n",
    "Imports, one-hot encodes and normalises the `dep_endterm` dataset for the selected datapath. Returns `pl.DataFrame`.\n",
    "\n",
    "- `merge_dataframe(dataframe_1, dataframe_2, join_type)`:  \n",
    "Merges two dataframes on `join_type`, returns `pl.DataFrame`.  \n",
    "\n",
    "    > Parameters:  \n",
    "\n",
    "    - `dataframe_1`: *`pl.DataFrame`*  \n",
    "    DataFrame to join with. \n",
    "\n",
    "    - `dataframe-2`: *`pl.DataFrame`*  \n",
    "    DataFrame to be joined to `dataframe_1`.  \n",
    "\n",
    "    - `join_type`: *`{‘inner’, ‘left’, ‘right’, ‘full’, ‘semi’, ‘anti’, ‘cross’}, default=\"inner\"`*  \n",
    "    Join strategy.\n",
    "    \n",
    "\n",
    "> ### Example Usage:   \n",
    "\n",
    "`preprocessor_INS_W1 = DataPreprocessor(1, imputer_max_iter=20)`\n"
   ]
  },
  {
   "cell_type": "markdown",
   "id": "154a7596",
   "metadata": {},
   "source": [
    "## PreprocessorLSTM"
   ]
  },
  {
   "cell_type": "markdown",
   "id": "919bf80d",
   "metadata": {},
   "source": [
    "## ModelTraining"
   ]
  },
  {
   "cell_type": "markdown",
   "id": "cd577330",
   "metadata": {},
   "source": [
    "# Imports"
   ]
  },
  {
   "cell_type": "code",
   "execution_count": 2,
   "id": "42378d12",
   "metadata": {},
   "outputs": [],
   "source": [
    "import numpy as np\n",
    "import polars as pl\n",
    "from datetime import date\n",
    "from sklearn.preprocessing import MinMaxScaler\n",
    "from sklearn.model_selection import train_test_split\n",
    "from sklearn.experimental import enable_iterative_imputer\n",
    "from sklearn.impute import IterativeImputer\n",
    "import logging"
   ]
  },
  {
   "cell_type": "markdown",
   "id": "d32bde1d",
   "metadata": {},
   "source": [
    "# Class Declaration  \n",
    "\n",
    "## DataPreprocessor"
   ]
  },
  {
   "cell_type": "code",
   "execution_count": 3,
   "id": "31a9029b",
   "metadata": {},
   "outputs": [],
   "source": [
    "# This script imports CSV files containing feature and survey data, processes them, and prepares them for analysis.\n",
    "# It also includes functions to load and preprocess the data, including scaling and encoding categorical variables.\n",
    "\n",
    "# data path for the CSV files\n",
    "# The data is organized into four directories, each containing feature and survey data.\n",
    "\n",
    "class DataPreprocessor:\n",
    "    def __init__(self, \n",
    "                 path: str,\n",
    "                 imputer_max_iter: int = 10,\n",
    "                 imputer_random_state: int = 42,\n",
    "                 nearest_features: int = None,\n",
    "                 strategy: str = \"mean\",\n",
    "                 only_history: bool = True,\n",
    "                 impute: bool = True\n",
    "                 ): # Initialize the DataPreprocessor class\n",
    "        self.only_history = only_history # Include only history data if specified\n",
    "        self.scaler = MinMaxScaler() # Initialize the MinMaxScaler with specified parameters\n",
    "        self.impute = impute\n",
    "        \n",
    "        self.imputer = IterativeImputer(\n",
    "            max_iter=imputer_max_iter,\n",
    "            random_state=imputer_random_state,\n",
    "            n_nearest_features=nearest_features,\n",
    "            initial_strategy=strategy) # Initialize the IterativeImputer with specified parameters\n",
    "        \n",
    "        self.logger = logging.getLogger(__name__) # Initialize the logger\n",
    "        logging.basicConfig(level=logging.INFO, format='%(asctime)s - %(levelname)s - %(message)s') # Set the logging level and format\n",
    "        self.logger.info(\"DataPreprocessor initialized\") # Log the initialization\n",
    "\n",
    "        match path: ## Set the path based on the input parameter\n",
    "            case 1:\n",
    "                self.path = \"./csv_data/INS-W_1/\"\n",
    "            case 2:\n",
    "                self.path = \"./csv_data/INS-W_2/\"\n",
    "            case 3:\n",
    "                self.path = \"./csv_data/INS-W_3/\"\n",
    "            case 4:\n",
    "                self.path = \"./csv_data/INS-W_4/\"\n",
    "            case _:\n",
    "                raise ValueError(\"Invalid path specified. Please choose a valid path (1, 2, 3, or 4).\")\n",
    "\n",
    "    # Load the CSV files, cast columns to appropriate types, and drop empty columns\n",
    "    def import_csv_feature_data(self, file_name: str) -> pl.DataFrame:\n",
    "        try:\n",
    "            q = (\n",
    "                pl.scan_csv(self.path + \"FeatureData/\" + file_name + \".csv\")\n",
    "                .select(pl.col(\"*\"))\n",
    "                .cast({\"date\": pl.Date})\n",
    "                .drop(\"\")\n",
    "                .with_columns(pl.col(\"pid\").str.replace_all(\"INS-W_\",\"\"))\n",
    "                .cast({\"pid\": pl.Int32})\n",
    "                .select(pl.exclude(pl.String))\n",
    "            )\n",
    "            data = q.collect() # Collect the lazy frame into a DataFrame\n",
    "\n",
    "            if self.impute:\n",
    "                if self.only_history: # If only history data is to be included\n",
    "                    data = data.select(pl.col([\"pid\",\"date\",\"^.*14dhist$\",\"^.*7dhist$\"]))\n",
    "                scaled_data = pl.from_numpy( # Convert to numpy array for scaling\n",
    "                        self.scaler.fit_transform(\n",
    "                            data.select(pl.exclude([\"pid\", \"date\", \"dep_weeklysubscale_endterm_merged\"]))), \n",
    "                            schema=data.select(pl.exclude([pl.Date, pl.Int32])).columns # min max scaling on all columns except date and pid\n",
    "                    )\n",
    "                try:\n",
    "                    self.imputer.fit(scaled_data) # Fit the imputer to the scaled data\n",
    "                    imputed_data = pl.from_numpy(\n",
    "                        self.imputer.transform(scaled_data),\n",
    "                        schema=data.select(pl.exclude([\"pid\",\"date\"])).columns # Transform the scaled data using the imputer\n",
    "                    )\n",
    "                    data = data.select([\"pid\",\"date\"])\n",
    "                    data = data.hstack(imputed_data) # Add imputed data back to the DataFrame\n",
    "                    del imputed_data # Delete the imputed data variable to free up memory\n",
    "                    self.logger.info(\"Imputer fitted successfully\") # Log the successful fitting of the imputer\n",
    "                    self.logger.info(f\"Imputed data shape: {data.shape}\") # Log the shape of the imputed data\n",
    "                except: \n",
    "                    self.logger.warning(\"Imputer failed to fit the data. Returning original data.\")\n",
    "                    return data\n",
    "                return data\n",
    "            else:\n",
    "                scaled_data = pl.from_numpy( # Convert to numpy array for scaling\n",
    "                        self.scaler.fit_transform(\n",
    "                            data.select(pl.exclude([pl.Date, pl.Int32]))), \n",
    "                            schema=data.select(pl.exclude([pl.Date, pl.Int32])).columns # min max scaling on all columns except date and pid\n",
    "                )\n",
    "                data = data.select([\"pid\",\"date\"])\n",
    "                data = data.hstack(scaled_data) # Add imputed data back to the DataFrame\n",
    "                del scaled_data\n",
    "                self.logger.info(f\"Successfully imported and scaled feature data. Shape: {data.shape}\") # Log the shape of the data\n",
    "                return data        \n",
    "        except Exception as e:\n",
    "            self.logger.error(f\"Error importing feature data from {self.path + 'FeatureData/' + file_name}: {e}\") # Log the error\n",
    "            return pl.DataFrame()\n",
    "\n",
    "    def import_csv_survey_data(self, file_name: str) -> pl.DataFrame:\n",
    "        try: # Load survey data from CSV file\n",
    "            q = (\n",
    "                pl.scan_csv(self.path + \"SurveyData/\" + file_name + \".csv\")\n",
    "                .select(pl.col(\"*\"))\n",
    "                .cast({\"date\": pl.Date})\n",
    "                .drop(\"\")\n",
    "                .with_columns(pl.col(\"pid\").str.replace_all(\"INS-W_\",\"\"))\n",
    "                .cast({\"pid\": pl.Int32})\n",
    "            )\n",
    "            data = q.collect()\n",
    "            match file_name:\n",
    "                case \"ema\":\n",
    "                    survey_data = data.select(pl.exclude([\"pid\",\"date\"])) # Convert to numpy array for scaling\n",
    "                    scaled_data = pl.from_numpy(\n",
    "                        self.scaler.fit_transform(survey_data), schema=survey_data.columns\n",
    "                    )\n",
    "                    data = data.select([\"pid\",\"date\"])\n",
    "                    data = data.hstack(scaled_data)\n",
    "                    del scaled_data\n",
    "                    self.logger.info(f\"Successfully impoted ema survey data. Shape: {data.shape}\")\n",
    "                    return data\n",
    "                case \"post\":\n",
    "                    survey_data = data.select(pl.exclude([\"pid\",\"date\"])) # Convert to numpy array for scaling\n",
    "                    scaled_data = pl.from_numpy(\n",
    "                        self.scaler.fit_transform(survey_data), schema=survey_data.columns\n",
    "                    )\n",
    "                    data = data.select([\"pid\",\"date\"])\n",
    "                    data = data.hstack(scaled_data)\n",
    "                    del scaled_data\n",
    "                    self.logger.info(f\"Successfully impoted post survey data. Shape: {data.shape}\")\n",
    "                    return data\n",
    "                case \"pre\":\n",
    "                    survey_data = data.select(pl.exclude([\"pid\",\"date\"]))\n",
    "                    scaled_data = pl.from_numpy(\n",
    "                        self.scaler.fit_transform(survey_data), schema=survey_data.columns\n",
    "                    )\n",
    "                    data = data.select([\"pid\",\"date\"])\n",
    "                    data = data.hstack(scaled_data)\n",
    "                    del scaled_data\n",
    "                    self.logger.info(f\"Successfully impoted pre survey data. Shape: {data.shape}\")\n",
    "                    return data\n",
    "        except Exception as e:\n",
    "            self.logger.error(f\"Error importing survey data from {self.path + 'SurveyData/' + file_name}: {e}\") # Log the error\n",
    "            return pl.DataFrame()\n",
    "\n",
    "    def import_dep_endterm(self) -> pl.DataFrame:\n",
    "        try:\n",
    "            q = (\n",
    "                pl.scan_csv(self.path + \"SurveyData/dep_endterm.csv\")\n",
    "                .select(pl.col(\"*\"))\n",
    "                .cast({\"date\": pl.Date})\n",
    "                .drop(\"\")\n",
    "                .with_columns(pl.col(\"pid\").str.replace_all(\"INS-W_\",\"\"))\n",
    "                .cast({\"pid\": pl.Int32})    \n",
    "                )\n",
    "            data = q.collect()\n",
    "            bdi2 = data.select(pl.exclude([\"pid\",\"date\", \"dep\"]))\n",
    "            data_scaled = pl.from_numpy(\n",
    "                self.scaler.fit_transform(bdi2), schema=bdi2.columns # min max scaling on all columns except date and pid\n",
    "            )\n",
    "            data = data.select([\"pid\",\"date\", \"dep\"])\n",
    "            data = data.hstack(data_scaled) # Add scaled data back to the DataFrame\n",
    "            del data_scaled # Delete the scaled data variable to free up memory\n",
    "            data = data.to_dummies(\"dep\")\n",
    "            self.logger.info(f\"Successfully imported endterm data. Shape: {data.shape}\")\n",
    "            return data\n",
    "        except Exception as e:\n",
    "            self.logger.error(f\"Error importing endterm data from {self.path + 'SurveyData/dep_endterm.csv'}: {e}\") # Log the error\n",
    "            return pl.DataFrame()\n",
    "\n",
    "    def merge_dataframe(self, dataframe_1: pl.DataFrame, dataframe_2: pl.DataFrame, join_type: str = \"inner\") -> pl.DataFrame:\n",
    "        try:\n",
    "            merged_data = dataframe_1.join(dataframe_2, on=[\"pid\", \"date\"], how=join_type) # Merge feature and survey data on 'pid'\n",
    "            self.logger.info(f\"Successfully merged dataframes. Shape: {merged_data.shape}\") # Log the shape of the merged data\n",
    "            return merged_data\n",
    "        except Exception as e:\n",
    "            self.logger.error(f\"Error merging dataframes: {e}\") # Log the error\n",
    "            return pl.DataFrame()\n",
    "    \n",
    "    def import_dep_weekly(self) -> pl.DataFrame:\n",
    "        try:\n",
    "            q = (\n",
    "                pl.scan_csv(self.path + \"SurveyData/dep_weekly.csv\")\n",
    "                .select(pl.col(\"*\"))\n",
    "                .cast({\"date\": pl.Date})\n",
    "                .drop(\"\")\n",
    "                .with_columns(pl.col(\"pid\").str.replace_all(\"INS-W_\",\"\"))\n",
    "                .cast({\"pid\": pl.Int32})\n",
    "                .select(pl.col([\"pid\",\"date\",\"dep_weeklysubscale_endterm_merged\"]))\n",
    "                )\n",
    "            data = q.collect()\n",
    "            # data = data.to_dummies(\"dep_weeklysubscale_endterm_merged\") # Convert categorical variable to dummy variables\n",
    "            self.logger.info(f\"Successfully imported weekly dep data. Shape: {data.shape}\") # Log the shape of the data\n",
    "            return data\n",
    "        \n",
    "        except Exception as e:\n",
    "            self.logger.error(f\"Error importing weekly data from {self.path + 'SurveyData/dep_weekly.csv'}: {e}\")\n",
    "            return pl.DataFrame()\n",
    "        \n",
    "    def merge_on_date(self, dataframe_1: pl.DataFrame, dataframe_2: pl.DataFrame) -> pl.DataFrame:\n",
    "        try:\n",
    "            merged_data = dataframe_1.join(dataframe_2, on=[\"date\"], how=\"inner\") # Merge feature and survey data on 'date'\n",
    "            self.logger.info(f\"Successfully merged dataframes on date. Shape: {merged_data.shape}\") # Log the shape of the merged data\n",
    "            return merged_data\n",
    "        except Exception as e:\n",
    "            self.logger.error(f\"Error merging dataframes on date: {e}\")\n",
    "            return pl.DataFrame()"
   ]
  },
  {
   "cell_type": "markdown",
   "id": "fdc89b54",
   "metadata": {},
   "source": [
    "## ModelLSTM"
   ]
  },
  {
   "cell_type": "code",
   "execution_count": 183,
   "id": "f6edec5f",
   "metadata": {},
   "outputs": [],
   "source": [
    "import tensorflow as tf\n",
    "import optuna\n",
    "from tensorflow.keras.models import Model, Sequential\n",
    "from tensorflow.keras.layers import Input, LSTM, Dense, Masking, RepeatVector, TimeDistributed, GlobalMaxPooling1D, Bidirectional, BatchNormalization, Dropout\n",
    "from tensorflow.keras.utils import pad_sequences\n",
    "from sklearn.model_selection import GroupKFold\n",
    "from tensorflow.keras.optimizers import Adam\n",
    "from tensorflow.keras.losses import BinaryFocalCrossentropy\n",
    "from sklearn.feature_selection import SelectKBest, mutual_info_classif, f_classif"
   ]
  },
  {
   "cell_type": "code",
   "execution_count": 221,
   "id": "f8784f06",
   "metadata": {},
   "outputs": [],
   "source": [
    "class ModelLSTM:\n",
    "    def __init__(self): # Initialize the PreprocessorLSTM class\n",
    "        self.logger = logging.getLogger(__name__) # Initialize the logger for the PreprocessorLSTM class\n",
    "        logging.basicConfig(level=logging.INFO, format='%(asctime)s - %(levelname)s - %(message)s') # Set the logging level and format\n",
    "        self.logger.info(\"PreprocessorLSTM initialized\") # Log the initialization of the PreprocessorLSTM class\n",
    "        self.padded_sequences = None # Initialize the padded sequences variable\n",
    "       \n",
    "\n",
    "    def select_features(self, data: pl.DataFrame, features: list) -> pl.DataFrame:\n",
    "        try:\n",
    "            selected_data = data.select(pl.col(features)) # Select specified features from the DataFrame\n",
    "            self.logger.info(f\"Selected features: {features}\")\n",
    "            return selected_data\n",
    "        except Exception as e:\n",
    "            self.logger.error(f\"Error selecting features: {e}\")\n",
    "            return pl.DataFrame()\n",
    "\n",
    "    def split_data(self, data: pl.DataFrame, window_size: int, pad_value: int = 0, test_size: float = 0.2) -> tuple:\n",
    "        try:\n",
    "            # Get unique patient IDs\n",
    "            patient_ids = data.select(pl.col(\"pid\").unique()).to_numpy().flatten() # Get unique patient IDs\n",
    "            self.logger.info(f\"Unique patient IDs: {patient_ids}\")\n",
    "\n",
    "            # Split the patient IDs into training and testing sets\n",
    "            train_ids, test_ids = train_test_split(patient_ids, test_size=0.2)\n",
    "\n",
    "            train_data = data.filter(pl.col(\"pid\").is_in(train_ids)) # Filter the data for training set\n",
    "            test_data = data.filter(pl.col(\"pid\").is_in(test_ids)) # Filter the data for testing set\n",
    "\n",
    "            feature_cols = data.select(pl.exclude([\"pid\",\"date\",\"dep_weeklysubscale_endterm_merged\"])).columns # Get the feature columns\n",
    "            target_col = data.select(pl.col(\"dep_weeklysubscale_endterm_merged\")).columns # Get the target column\n",
    "\n",
    "            X_train_raw = train_data.select(feature_cols).to_numpy() # Convert the training data to a numpy array\n",
    "            y_train = train_data.select(target_col).to_numpy().flatten() # Convert the target variable to a numpy array\n",
    "\n",
    "            selector = SelectKBest(score_func=mutual_info_classif, k=100) # Select the top 50 features based on mutual information\n",
    "            X_train_selected = selector.fit_transform(X_train_raw, y_train) # Fit the selector to the training data\n",
    "\n",
    "            selected_feature_idx = selector.get_support(indices=True) # Get the indices of the selected features\n",
    "            self.logger.info(f\"Selected feature indices: {selected_feature_idx}\")\n",
    "\n",
    "            X_test_raw = test_data.select(feature_cols).to_numpy() # Convert the testing data to a numpy array\n",
    "            X_test_selected = selector.transform(X_test_raw) # Transform the testing data using the selector\n",
    "            \n",
    "            target_col_idx = data.get_column_index(\"dep_weeklysubscale_endterm_merged\") # Get the index of the target column\n",
    "            \n",
    "            # Group the data by patient ID\n",
    "            X_train, y_train = [], []\n",
    "            for pid in train_ids:\n",
    "                patient_data = train_data.filter(pl.col(\"pid\") == pid)\n",
    "                features = patient_data.select(feature_cols).to_numpy()[:, selected_feature_idx] # Select the features based on the selected indices\n",
    "                target = patient_data.select(\"dep_weeklysubscale_endterm_merged\").to_numpy().flatten() # Select the target variable\n",
    "\n",
    "                # Create sequences of specified window size\n",
    "                for i in range(len(features) - window_size):\n",
    "                    X_train.append(features[i:i + window_size])\n",
    "                    self.logger.info(f\"Created sequence {i + 1}/{len(features) - window_size}\")\n",
    "                    y_train.append(target[i + window_size]) # Target\n",
    "                    self.logger.info(f\"Created target {i + 1}/{len(features) - window_size}\")\n",
    "\n",
    "            X_train_padded = pad_sequences(X_train, padding=\"post\", value=pad_value, dtype=\"float32\") # Pad the sequences to ensure they are of equal length\n",
    "\n",
    "            X_test, y_test = [], []\n",
    "            for pid in test_ids:\n",
    "                for pid in test_ids:\n",
    "                    patient_data = test_data.filter(pl.col(\"pid\") == pid)\n",
    "                    features = patient_data.select(feature_cols).to_numpy()[:, selected_feature_idx] # Select the features based on the selected indices\n",
    "                    target = patient_data.select(\"dep_weeklysubscale_endterm_merged\").to_numpy().flatten() # Select the target variable\n",
    "\n",
    "                    # Create sequences of specified window size\n",
    "                    for i in range(len(features) - window_size):\n",
    "                        X_test.append(features[i:i + window_size])\n",
    "                        self.logger.info(f\"Created sequence {i + 1}/{len(features) - window_size}\")\n",
    "                        y_test.append(target[i + window_size])\n",
    "                        self.logger.info(f\"Created target {i + 1}/{len(features) - window_size}\")\n",
    "\n",
    "            X_test_padded = pad_sequences(X_test, padding=\"post\", value=pad_value, dtype=\"float32\") # Pad the sequences to ensure they are of equal length\n",
    "            \n",
    "            return X_train_padded, np.array(y_train), X_test_padded, np.array(y_test) # Return the padded sequences for training and testing\n",
    "        \n",
    "        except Exception as e:\n",
    "            self.logger.error(f\"Error splitting data: {e}\")\n",
    "            return None, None, None, None\n",
    "    \n",
    "    def generate_sequences(self, data, window_size, feature_indices):\n",
    "        sequences, targets = [], []\n",
    "        for pid in data[\"pid\"].unique():\n",
    "            patient_df = data.filter(pl.col(\"pid\") == pid)\n",
    "            features = patient_df.select(pl.all().exclude([\"pid\",\"date\",\"dep_weeklysubscale_endterm_merged\"]))[:, feature_indices]\n",
    "            target = patient_df[\"dep_weeklysubscale_endterm_merged\"].to_numpy()\n",
    "            \n",
    "            for i in range(len(features)-window_size):\n",
    "                sequences.append(features[i:i+window_size])\n",
    "                targets.append(target[i+window_size])\n",
    "        return sequences, targets\n",
    "\n",
    "    def cross_validate(self, data: pl.DataFrame, n_k: int = 100, n_splits=3, window_size=20, pad_value=-1.0, random_state=42):\n",
    "        patient_ids = data[\"pid\"].unique().to_list()\n",
    "        kf = GroupKFold(n_splits=n_splits)\n",
    "\n",
    "        for fold, (train_idx, val_idx) in enumerate(kf.split(data, groups=data[\"pid\"])):\n",
    "            self.logger.info(f\"\\nFold {fold+1}/{n_splits}\")\n",
    "            \n",
    "            # Split data\n",
    "            train_data = data[train_idx]\n",
    "            val_data = data[val_idx]\n",
    "\n",
    "            # Feature selection PER FOLD\n",
    "            feature_cols = train_data.select(pl.exclude([\"pid\",\"date\",\"dep_weeklysubscale_endterm_merged\"])).columns\n",
    "            X_train_raw = train_data.select(feature_cols).to_numpy()\n",
    "            y_train = train_data.select(\"dep_weeklysubscale_endterm_merged\").to_numpy().flatten()\n",
    "            \n",
    "            selector = SelectKBest(mutual_info_classif, k=n_k)\n",
    "            X_train_selected = selector.fit_transform(X_train_raw, y_train)\n",
    "            selected_feature_idx = selector.get_support(indices=True)\n",
    "\n",
    "            # Generate sequences for this fold\n",
    "            X_train, y_train = self.generate_sequences(train_data, window_size, selected_feature_idx)\n",
    "            X_val, y_val = self.generate_sequences(val_data, window_size, selected_feature_idx)\n",
    "\n",
    "            # Pad sequences\n",
    "            X_train_pad = pad_sequences(X_train, padding=\"post\", value=pad_value, dtype=\"float32\")\n",
    "            X_val_pad = pad_sequences(X_val, padding=\"post\", value=pad_value, dtype=\"float32\")\n",
    "\n",
    "        return X_train_pad, np.array(y_train), X_val_pad, np.array(y_val)\n",
    "    \n",
    "    \n",
    "    def build_lstm_model(self, max_timesteps: int, n_features: int, mask_value: float = -1.0) -> Model:\n",
    "        try:\n",
    "            model = Sequential() # Initialize a sequential model\n",
    "            model.add(Input(shape=(max_timesteps, n_features))) # Define the input shape for the model\n",
    "            model.add(Masking(mask_value=mask_value)) # Mask the input sequences\n",
    "            model.add(Bidirectional(LSTM(64, activation='relu', return_sequences=True))) # Add LSTM layer with 64 units\n",
    "            # model.add(RepeatVector(1)), # Repeat the input for the next LSTM layer\n",
    "            model.add(BatchNormalization()) # Add batch normalization\n",
    "            model.add(Bidirectional(LSTM(32, activation='relu'))) # Add another LSTM layer with 64 units\n",
    "            model.add(Dense(1, activation=\"sigmoid\")) # Add a TimeDistributed layer with a Dense layer\n",
    "            model.compile(optimizer='adam', loss='binary_crossentropy', metrics=['binary_accuracy']) # Compile the model with Adam optimizer and binary crossentropy loss\n",
    "            model.summary() # Print the model summary\n",
    "            return model # Return the built model\n",
    "        \n",
    "        except Exception as e:\n",
    "            self.logger.error(f\"Error building LSTM model: {e}\")\n",
    "            return None"
   ]
  },
  {
   "cell_type": "code",
   "execution_count": null,
   "id": "2895681c",
   "metadata": {},
   "outputs": [],
   "source": [
    "inputs = Input(shape=(max_timesteps, n_features))  # Variable-length sequences\n",
    "            x = Masking(mask_value=0.0)(inputs)      # Ignore padded zeros\n",
    "            x = LSTM(64, return_sequences=True)(x)  # Process entire sequence\n",
    "            outputs = Dense(n_features)(x)           # Predict all features\n",
    "            model = Model(inputs, outputs)\n",
    "            model.compile(optimizer=\"adam\", loss=\"mse\")\n",
    "            self.logger.info(\"LSTM model built successfully\")\n",
    "            self.logger.info(f\"Model summary: {model.summary()}\")\n",
    "\n",
    "# old code\n",
    "\n",
    "patient_data = data.filter(pl.col(\"pid\") == pid)\n",
    "                sequences = patient_data.select(pl.exclude([\"pid\"])).to_numpy()\n",
    "                if len(sequences) == 0:\n",
    "                    continue\n",
    "\n",
    "                for i in range(len(sequences) - window_size):\n",
    "                    X_test.append(sequences[i:i + window_size])\n",
    "                    self.logger.info(f\"Created sequence {i + 1}/{len(sequences) - window_size}\")\n",
    "                    y_test.append(sequences[i + window_size, target_col_idx])\n",
    "                    self.logger.info(f\"Created target {i + 1}/{len(sequences) - window_size}\")"
   ]
  },
  {
   "cell_type": "code",
   "execution_count": 222,
   "id": "2b3b7fe2",
   "metadata": {},
   "outputs": [
    {
     "name": "stderr",
     "output_type": "stream",
     "text": [
      "2025-05-21 11:14:32,340 - INFO - PreprocessorLSTM initialized\n",
      "2025-05-21 11:14:32,342 - INFO - DataPreprocessor initialized\n"
     ]
    }
   ],
   "source": [
    "TestModel = ModelLSTM() # Create an instance of the ModelLSTM class\n",
    "preprocessor_INS_W1 = DataPreprocessor(1, imputer_max_iter=10, nearest_features=30, impute=False, only_history=True) # Create an instance of the DataPreprocessor class"
   ]
  },
  {
   "cell_type": "code",
   "execution_count": 7,
   "id": "c731a252",
   "metadata": {},
   "outputs": [
    {
     "name": "stderr",
     "output_type": "stream",
     "text": [
      "2025-05-21 09:50:29,246 - INFO - DataPreprocessor initialized\n"
     ]
    }
   ],
   "source": [
    "preprocessor_test_2 = DataPreprocessor(1, imputer_max_iter=10, nearest_features=15, impute=True, only_history=False)"
   ]
  },
  {
   "cell_type": "code",
   "execution_count": 158,
   "id": "f17c9451",
   "metadata": {},
   "outputs": [
    {
     "name": "stderr",
     "output_type": "stream",
     "text": [
      "2025-05-21 10:47:45,286 - INFO - Successfully imported and scaled feature data. Shape: (14260, 3384)\n",
      "2025-05-21 10:47:45,289 - INFO - Successfully imported weekly dep data. Shape: (2360, 3)\n"
     ]
    }
   ],
   "source": [
    "rapids_1 = preprocessor_INS_W1.import_csv_feature_data(\"rapids\")\n",
    "dep_weekly_1 = preprocessor_INS_W1.import_dep_weekly()\n",
    "rapids_weekly = dep_weekly_1.join(rapids_1, on=[\"pid\",\"date\"], how=\"left\")\n",
    "rapids_weekly = rapids_weekly.fill_nan(-1.0)\n",
    "del rapids_1, dep_weekly_1\n",
    "# model = TestModel.build_lstm_model(n_features=2)\n",
    "# model.fit(TestModel.X_train, TestModel.y_train, epochs=10, validation_data=(TestModel.X_test, TestModel.y_test)) # Since x_train and y_train are initialized in the class we can use them directly"
   ]
  },
  {
   "cell_type": "code",
   "execution_count": null,
   "id": "fdaf8826",
   "metadata": {},
   "outputs": [
    {
     "name": "stderr",
     "output_type": "stream",
     "text": [
      "c:\\Users\\darkenral\\AppData\\Local\\Programs\\Python\\Python312\\Lib\\site-packages\\sklearn\\impute\\_iterative.py:895: ConvergenceWarning: [IterativeImputer] Early stopping criterion not reached.\n",
      "  warnings.warn(\n",
      "2025-05-21 09:53:00,242 - INFO - Imputer fitted successfully\n",
      "2025-05-21 09:53:00,243 - INFO - Imputed data shape: (14260, 3384)\n",
      "2025-05-21 09:53:00,266 - INFO - Successfully imported weekly dep data. Shape: (2360, 3)\n"
     ]
    }
   ],
   "source": [
    "rapids_2 = preprocessor_test_2.import_csv_feature_data(\"rapids\")\n",
    "rapids_2 = rapids_2.select(pl.col([pl.Date, pl.Int32, pl.Float64]))\n",
    "dep_weekly_2 = preprocessor_test_2.import_dep_weekly()\n",
    "rapids_weekly_2 = dep_weekly_2.join(rapids_2, on=[\"pid\",\"date\"], how=\"left\")\n",
    "del rapids_2, dep_weekly_2\n"
   ]
  },
  {
   "cell_type": "code",
   "execution_count": 155,
   "id": "80cd80f4",
   "metadata": {},
   "outputs": [],
   "source": [
    "rapids_weekly_2 = rapids_weekly_2.fill_nan(-1.0)\n",
    "rapids_weekly_2 = rapids_weekly_2.select(pl.exclude(\"date\"))"
   ]
  },
  {
   "cell_type": "code",
   "execution_count": 225,
   "id": "b0b1c425",
   "metadata": {},
   "outputs": [
    {
     "name": "stderr",
     "output_type": "stream",
     "text": [
      "2025-05-21 11:15:33,254 - INFO - \n",
      "Fold 1/5\n",
      "2025-05-21 11:15:49,264 - INFO - \n",
      "Fold 2/5\n",
      "2025-05-21 11:16:05,654 - INFO - \n",
      "Fold 3/5\n",
      "2025-05-21 11:16:21,803 - INFO - \n",
      "Fold 4/5\n",
      "2025-05-21 11:16:37,160 - INFO - \n",
      "Fold 5/5\n"
     ]
    }
   ],
   "source": [
    "# rapids_selected = rapids_weekly.select(\n",
    "#     pl.col(\"pid\").cast(pl.Float32),\n",
    "#     pl.col(\"dep_weeklysubscale_endterm_merged\").cast(pl.Float32),\n",
    "#     pl.col(\"^.*14dhist$\").cast(pl.Float32)\n",
    "# )\n",
    "# np.unique(rapids_selected.select(pl.col(\"dep_weeklysubscale_endterm_merged_true\")).to_numpy(), return_counts=True)\n",
    "X_train, y_train, X_test, y_test  = TestModel.cross_validate(rapids_weekly_2, window_size=10, pad_value=-1.0, n_splits=5, n_k=10)"
   ]
  },
  {
   "cell_type": "code",
   "execution_count": 226,
   "id": "3ac55c67",
   "metadata": {},
   "outputs": [
    {
     "data": {
      "text/plain": [
       "((676, 10, 10), (676,), (169, 10, 10), (169,))"
      ]
     },
     "execution_count": 226,
     "metadata": {},
     "output_type": "execute_result"
    }
   ],
   "source": [
    "X_train.shape, y_train.shape, X_test.shape, y_test.shape"
   ]
  },
  {
   "cell_type": "code",
   "execution_count": 239,
   "id": "c784879c",
   "metadata": {},
   "outputs": [
    {
     "data": {
      "text/plain": [
       "array([False,  True])"
      ]
     },
     "execution_count": 239,
     "metadata": {},
     "output_type": "execute_result"
    }
   ],
   "source": [
    "np.unique(y_train)"
   ]
  },
  {
   "cell_type": "code",
   "execution_count": 227,
   "id": "08b181b4",
   "metadata": {},
   "outputs": [
    {
     "data": {
      "text/html": [
       "<pre style=\"white-space:pre;overflow-x:auto;line-height:normal;font-family:Menlo,'DejaVu Sans Mono',consolas,'Courier New',monospace\"><span style=\"font-weight: bold\">Model: \"sequential_250\"</span>\n",
       "</pre>\n"
      ],
      "text/plain": [
       "\u001b[1mModel: \"sequential_250\"\u001b[0m\n"
      ]
     },
     "metadata": {},
     "output_type": "display_data"
    },
    {
     "data": {
      "text/html": [
       "<pre style=\"white-space:pre;overflow-x:auto;line-height:normal;font-family:Menlo,'DejaVu Sans Mono',consolas,'Courier New',monospace\">┏━━━━━━━━━━━━━━━━━━━━━━━━━━━━━━━━━┳━━━━━━━━━━━━━━━━━━━━━━━━┳━━━━━━━━━━━━━━━┓\n",
       "┃<span style=\"font-weight: bold\"> Layer (type)                    </span>┃<span style=\"font-weight: bold\"> Output Shape           </span>┃<span style=\"font-weight: bold\">       Param # </span>┃\n",
       "┡━━━━━━━━━━━━━━━━━━━━━━━━━━━━━━━━━╇━━━━━━━━━━━━━━━━━━━━━━━━╇━━━━━━━━━━━━━━━┩\n",
       "│ masking_254 (<span style=\"color: #0087ff; text-decoration-color: #0087ff\">Masking</span>)           │ (<span style=\"color: #00d7ff; text-decoration-color: #00d7ff\">None</span>, <span style=\"color: #00af00; text-decoration-color: #00af00\">10</span>, <span style=\"color: #00af00; text-decoration-color: #00af00\">10</span>)         │             <span style=\"color: #00af00; text-decoration-color: #00af00\">0</span> │\n",
       "├─────────────────────────────────┼────────────────────────┼───────────────┤\n",
       "│ bidirectional_500               │ (<span style=\"color: #00d7ff; text-decoration-color: #00d7ff\">None</span>, <span style=\"color: #00af00; text-decoration-color: #00af00\">10</span>, <span style=\"color: #00af00; text-decoration-color: #00af00\">128</span>)        │        <span style=\"color: #00af00; text-decoration-color: #00af00\">38,400</span> │\n",
       "│ (<span style=\"color: #0087ff; text-decoration-color: #0087ff\">Bidirectional</span>)                 │                        │               │\n",
       "├─────────────────────────────────┼────────────────────────┼───────────────┤\n",
       "│ batch_normalization_439         │ (<span style=\"color: #00d7ff; text-decoration-color: #00d7ff\">None</span>, <span style=\"color: #00af00; text-decoration-color: #00af00\">10</span>, <span style=\"color: #00af00; text-decoration-color: #00af00\">128</span>)        │           <span style=\"color: #00af00; text-decoration-color: #00af00\">512</span> │\n",
       "│ (<span style=\"color: #0087ff; text-decoration-color: #0087ff\">BatchNormalization</span>)            │                        │               │\n",
       "├─────────────────────────────────┼────────────────────────┼───────────────┤\n",
       "│ bidirectional_501               │ (<span style=\"color: #00d7ff; text-decoration-color: #00d7ff\">None</span>, <span style=\"color: #00af00; text-decoration-color: #00af00\">64</span>)             │        <span style=\"color: #00af00; text-decoration-color: #00af00\">41,216</span> │\n",
       "│ (<span style=\"color: #0087ff; text-decoration-color: #0087ff\">Bidirectional</span>)                 │                        │               │\n",
       "├─────────────────────────────────┼────────────────────────┼───────────────┤\n",
       "│ dense_364 (<span style=\"color: #0087ff; text-decoration-color: #0087ff\">Dense</span>)               │ (<span style=\"color: #00d7ff; text-decoration-color: #00d7ff\">None</span>, <span style=\"color: #00af00; text-decoration-color: #00af00\">1</span>)              │            <span style=\"color: #00af00; text-decoration-color: #00af00\">65</span> │\n",
       "└─────────────────────────────────┴────────────────────────┴───────────────┘\n",
       "</pre>\n"
      ],
      "text/plain": [
       "┏━━━━━━━━━━━━━━━━━━━━━━━━━━━━━━━━━┳━━━━━━━━━━━━━━━━━━━━━━━━┳━━━━━━━━━━━━━━━┓\n",
       "┃\u001b[1m \u001b[0m\u001b[1mLayer (type)                   \u001b[0m\u001b[1m \u001b[0m┃\u001b[1m \u001b[0m\u001b[1mOutput Shape          \u001b[0m\u001b[1m \u001b[0m┃\u001b[1m \u001b[0m\u001b[1m      Param #\u001b[0m\u001b[1m \u001b[0m┃\n",
       "┡━━━━━━━━━━━━━━━━━━━━━━━━━━━━━━━━━╇━━━━━━━━━━━━━━━━━━━━━━━━╇━━━━━━━━━━━━━━━┩\n",
       "│ masking_254 (\u001b[38;5;33mMasking\u001b[0m)           │ (\u001b[38;5;45mNone\u001b[0m, \u001b[38;5;34m10\u001b[0m, \u001b[38;5;34m10\u001b[0m)         │             \u001b[38;5;34m0\u001b[0m │\n",
       "├─────────────────────────────────┼────────────────────────┼───────────────┤\n",
       "│ bidirectional_500               │ (\u001b[38;5;45mNone\u001b[0m, \u001b[38;5;34m10\u001b[0m, \u001b[38;5;34m128\u001b[0m)        │        \u001b[38;5;34m38,400\u001b[0m │\n",
       "│ (\u001b[38;5;33mBidirectional\u001b[0m)                 │                        │               │\n",
       "├─────────────────────────────────┼────────────────────────┼───────────────┤\n",
       "│ batch_normalization_439         │ (\u001b[38;5;45mNone\u001b[0m, \u001b[38;5;34m10\u001b[0m, \u001b[38;5;34m128\u001b[0m)        │           \u001b[38;5;34m512\u001b[0m │\n",
       "│ (\u001b[38;5;33mBatchNormalization\u001b[0m)            │                        │               │\n",
       "├─────────────────────────────────┼────────────────────────┼───────────────┤\n",
       "│ bidirectional_501               │ (\u001b[38;5;45mNone\u001b[0m, \u001b[38;5;34m64\u001b[0m)             │        \u001b[38;5;34m41,216\u001b[0m │\n",
       "│ (\u001b[38;5;33mBidirectional\u001b[0m)                 │                        │               │\n",
       "├─────────────────────────────────┼────────────────────────┼───────────────┤\n",
       "│ dense_364 (\u001b[38;5;33mDense\u001b[0m)               │ (\u001b[38;5;45mNone\u001b[0m, \u001b[38;5;34m1\u001b[0m)              │            \u001b[38;5;34m65\u001b[0m │\n",
       "└─────────────────────────────────┴────────────────────────┴───────────────┘\n"
      ]
     },
     "metadata": {},
     "output_type": "display_data"
    },
    {
     "data": {
      "text/html": [
       "<pre style=\"white-space:pre;overflow-x:auto;line-height:normal;font-family:Menlo,'DejaVu Sans Mono',consolas,'Courier New',monospace\"><span style=\"font-weight: bold\"> Total params: </span><span style=\"color: #00af00; text-decoration-color: #00af00\">80,193</span> (313.25 KB)\n",
       "</pre>\n"
      ],
      "text/plain": [
       "\u001b[1m Total params: \u001b[0m\u001b[38;5;34m80,193\u001b[0m (313.25 KB)\n"
      ]
     },
     "metadata": {},
     "output_type": "display_data"
    },
    {
     "data": {
      "text/html": [
       "<pre style=\"white-space:pre;overflow-x:auto;line-height:normal;font-family:Menlo,'DejaVu Sans Mono',consolas,'Courier New',monospace\"><span style=\"font-weight: bold\"> Trainable params: </span><span style=\"color: #00af00; text-decoration-color: #00af00\">79,937</span> (312.25 KB)\n",
       "</pre>\n"
      ],
      "text/plain": [
       "\u001b[1m Trainable params: \u001b[0m\u001b[38;5;34m79,937\u001b[0m (312.25 KB)\n"
      ]
     },
     "metadata": {},
     "output_type": "display_data"
    },
    {
     "data": {
      "text/html": [
       "<pre style=\"white-space:pre;overflow-x:auto;line-height:normal;font-family:Menlo,'DejaVu Sans Mono',consolas,'Courier New',monospace\"><span style=\"font-weight: bold\"> Non-trainable params: </span><span style=\"color: #00af00; text-decoration-color: #00af00\">256</span> (1.00 KB)\n",
       "</pre>\n"
      ],
      "text/plain": [
       "\u001b[1m Non-trainable params: \u001b[0m\u001b[38;5;34m256\u001b[0m (1.00 KB)\n"
      ]
     },
     "metadata": {},
     "output_type": "display_data"
    }
   ],
   "source": [
    "max_timesteps = X_train.shape[1]\n",
    "n_features = X_train.shape[2]\n",
    "model = TestModel.build_lstm_model(max_timesteps, n_features)"
   ]
  },
  {
   "cell_type": "code",
   "execution_count": 29,
   "id": "98b67900",
   "metadata": {},
   "outputs": [],
   "source": [
    "from sklearn.utils import compute_class_weight"
   ]
  },
  {
   "cell_type": "code",
   "execution_count": 228,
   "id": "60e2c35b",
   "metadata": {},
   "outputs": [
    {
     "name": "stdout",
     "output_type": "stream",
     "text": [
      "Epoch 1/10\n",
      "\u001b[1m22/22\u001b[0m \u001b[32m━━━━━━━━━━━━━━━━━━━━\u001b[0m\u001b[37m\u001b[0m \u001b[1m3s\u001b[0m 23ms/step - binary_accuracy: 0.5109 - loss: 0.6885 - val_binary_accuracy: 0.7396 - val_loss: 0.6869\n",
      "Epoch 2/10\n",
      "\u001b[1m22/22\u001b[0m \u001b[32m━━━━━━━━━━━━━━━━━━━━\u001b[0m\u001b[37m\u001b[0m \u001b[1m0s\u001b[0m 7ms/step - binary_accuracy: 0.6662 - loss: 0.6452 - val_binary_accuracy: 0.7692 - val_loss: 0.6775\n",
      "Epoch 3/10\n",
      "\u001b[1m22/22\u001b[0m \u001b[32m━━━━━━━━━━━━━━━━━━━━\u001b[0m\u001b[37m\u001b[0m \u001b[1m0s\u001b[0m 7ms/step - binary_accuracy: 0.6951 - loss: 0.6400 - val_binary_accuracy: 0.7692 - val_loss: 0.6699\n",
      "Epoch 4/10\n",
      "\u001b[1m22/22\u001b[0m \u001b[32m━━━━━━━━━━━━━━━━━━━━\u001b[0m\u001b[37m\u001b[0m \u001b[1m0s\u001b[0m 7ms/step - binary_accuracy: 0.6620 - loss: 0.6295 - val_binary_accuracy: 0.7811 - val_loss: 0.6786\n",
      "Epoch 5/10\n",
      "\u001b[1m22/22\u001b[0m \u001b[32m━━━━━━━━━━━━━━━━━━━━\u001b[0m\u001b[37m\u001b[0m \u001b[1m0s\u001b[0m 7ms/step - binary_accuracy: 0.7646 - loss: 0.5426 - val_binary_accuracy: 0.7692 - val_loss: 0.6721\n",
      "Epoch 6/10\n",
      "\u001b[1m22/22\u001b[0m \u001b[32m━━━━━━━━━━━━━━━━━━━━\u001b[0m\u001b[37m\u001b[0m \u001b[1m0s\u001b[0m 7ms/step - binary_accuracy: 0.7615 - loss: 0.5313 - val_binary_accuracy: 0.7515 - val_loss: 0.6745\n",
      "Epoch 7/10\n",
      "\u001b[1m22/22\u001b[0m \u001b[32m━━━━━━━━━━━━━━━━━━━━\u001b[0m\u001b[37m\u001b[0m \u001b[1m0s\u001b[0m 7ms/step - binary_accuracy: 0.7419 - loss: 0.4973 - val_binary_accuracy: 0.7870 - val_loss: 0.6626\n",
      "Epoch 8/10\n",
      "\u001b[1m22/22\u001b[0m \u001b[32m━━━━━━━━━━━━━━━━━━━━\u001b[0m\u001b[37m\u001b[0m \u001b[1m0s\u001b[0m 7ms/step - binary_accuracy: 0.7832 - loss: 0.5559 - val_binary_accuracy: 0.7574 - val_loss: 0.6685\n",
      "Epoch 9/10\n",
      "\u001b[1m22/22\u001b[0m \u001b[32m━━━━━━━━━━━━━━━━━━━━\u001b[0m\u001b[37m\u001b[0m \u001b[1m0s\u001b[0m 7ms/step - binary_accuracy: 0.7818 - loss: 0.4317 - val_binary_accuracy: 0.7633 - val_loss: 0.6652\n",
      "Epoch 10/10\n",
      "\u001b[1m22/22\u001b[0m \u001b[32m━━━━━━━━━━━━━━━━━━━━\u001b[0m\u001b[37m\u001b[0m \u001b[1m0s\u001b[0m 7ms/step - binary_accuracy: 0.7550 - loss: 0.4379 - val_binary_accuracy: 0.6213 - val_loss: 0.6886\n"
     ]
    },
    {
     "data": {
      "text/plain": [
       "<keras.src.callbacks.history.History at 0x23135eb9cd0>"
      ]
     },
     "execution_count": 228,
     "metadata": {},
     "output_type": "execute_result"
    }
   ],
   "source": [
    "class_weights = compute_class_weight('balanced', classes=np.unique(y_train), y=y_train)\n",
    "model.fit(X_train, y_train, epochs=10, validation_data=(X_test, y_test), class_weight=dict(enumerate(class_weights))) # Train the model"
   ]
  },
  {
   "cell_type": "code",
   "execution_count": 203,
   "id": "b3b79907",
   "metadata": {},
   "outputs": [],
   "source": [
    "import optuna\n",
    "from optuna.integration import TFKerasPruningCallback\n",
    "from tensorflow.keras.regularizers import l2, l1\n",
    "from tensorflow.keras.metrics import AUC, Precision, Recall"
   ]
  },
  {
   "cell_type": "code",
   "execution_count": null,
   "id": "321e26ce",
   "metadata": {},
   "outputs": [],
   "source": [
    "def objective(trial, X_train, y_train, X_val, y_val, max_timesteps, n_features):\n",
    "    try:\n",
    "        # Hyperparameter tuning\n",
    "        lstm_units_1 = trial.suggest_int(\"lstm_units_1\", 32, 256)\n",
    "        lstm_units_2 = trial.suggest_int(\"lstm_units_2\", 16, 128)\n",
    "        dense_units_1 = trial.suggest_int(\"dense_units_1\", 8, 64)\n",
    "        kernel_regularizer_value_1 = trial.suggest_float(\"kernel_regularizer_value\", 1e-5, 1e-2, log=True)\n",
    "        kernel_regularizer_value_2 = trial.suggest_float(\"kernel_regularizer_value_2\", 1e-5, 1e-2, log=True)\n",
    "        kernel_regularizer_value_3 = trial.suggest_float(\"kernel_regularizer_value_3\", 1e-5, 1e-2, log=True)\n",
    "        # lstm_units_3 = trial.suggest_int(\"lstm_units_3\", 16, 64)\n",
    "        learning_rate = trial.suggest_float(\"learning_rate\", 1e-5, 1e-2, log=True)\n",
    "        dropout_rate = trial.suggest_float(\"dropout_rate\", 0.2, 0.5)\n",
    "        batch_size = trial.suggest_categorical(\"batch_size\", [32,64,128])\n",
    "\n",
    "        # Build the model\n",
    "        model = Sequential()\n",
    "        model.add(Input(shape=(max_timesteps, n_features)))\n",
    "        model.add(Masking(mask_value=-1.0))  # Ignore padded zeros\n",
    "        model.add(Bidirectional(LSTM(\n",
    "            lstm_units_1,\n",
    "            activation=\"relu\",\n",
    "            dropout=dropout_rate,\n",
    "            recurrent_dropout=dropout_rate,\n",
    "            return_sequences=True,\n",
    "            kernel_regularizer=l2(kernel_regularizer_value_1)\n",
    "            )))\n",
    "        model.add(BatchNormalization())\n",
    "        model.add(Bidirectional(LSTM(\n",
    "            lstm_units_2,\n",
    "            activation=\"relu\",\n",
    "            dropout=dropout_rate,\n",
    "            recurrent_dropout=dropout_rate,\n",
    "            kernel_regularizer=l2(kernel_regularizer_value_2)\n",
    "            # return_sequences=True\n",
    "            )))\n",
    "        # model.add(BatchNormalization())\n",
    "        # model.add(Dropout(dropout_rate))\n",
    "        # model.add(Bidirectional(LSTM(\n",
    "        #     lstm_units_3,\n",
    "        #     activation=\"relu\",\n",
    "        #     dropout=dropout_rate,\n",
    "        #     recurrent_dropout=dropout_rate\n",
    "        # )))\n",
    "        model.add(BatchNormalization())\n",
    "        model.add(Dense(\n",
    "            dense_units_1, \n",
    "            activation=\"relu\",\n",
    "            kernel_regularizer=l2(kernel_regularizer_value_3)\n",
    "            ))\n",
    "        model.add(Dense(1, activation=\"sigmoid\"))\n",
    "\n",
    "        # Compile the model\n",
    "        optimizer = Adam(learning_rate=learning_rate)\n",
    "        model.compile(optimizer=optimizer, loss=\"binary_focal_crossentropy\", metrics=[\"precision\"]) # Use binary focal crossentropy loss\n",
    "\n",
    "        # Early stopping and pruning\n",
    "        early_stopping = tf.keras.callbacks.EarlyStopping(\n",
    "            monitor=\"val_loss\",\n",
    "            patience=3,\n",
    "            restore_best_weights=True\n",
    "        )\n",
    "        callbacks = [\n",
    "            early_stopping,\n",
    "            TFKerasPruningCallback(trial, \"val_precision\") # Prune the trial if the validation accuracy does not improve\n",
    "        ]\n",
    "        \n",
    "        # Train the model\n",
    "        history = model.fit(\n",
    "            X_train,\n",
    "            y_train,\n",
    "            epochs=25,\n",
    "            batch_size=batch_size,\n",
    "            validation_data=(X_val, y_val),\n",
    "            callbacks=callbacks,\n",
    "            verbose=0,\n",
    "            class_weight=dict(enumerate(class_weights)) #\n",
    "        )\n",
    "        \n",
    "        # Return the validation accuracy\n",
    "        best_val_accuracy = max(history.history[\"val_precision\"])\n",
    "        return best_val_accuracy\n",
    "    except Exception as e:\n",
    "        print(f\"Trial {trial.number} failed: {str(e)}\")\n",
    "        return 0.0"
   ]
  },
  {
   "cell_type": "code",
   "execution_count": 229,
   "id": "2dc2d8b0",
   "metadata": {},
   "outputs": [
    {
     "name": "stderr",
     "output_type": "stream",
     "text": [
      "[I 2025-05-21 11:17:08,525] A new study created in memory with name: no-name-7aba5df7-40c7-48b6-915d-07fdd31aa76c\n",
      "Best trial: 0. Best value: 0.230769:   5%|▌         | 1/20 [00:07<02:18,  7.28s/it]"
     ]
    },
    {
     "name": "stdout",
     "output_type": "stream",
     "text": [
      "[I 2025-05-21 11:17:15,800] Trial 0 finished with value: 0.23076923191547394 and parameters: {'lstm_units_1': 56, 'lstm_units_2': 32, 'dense_units_1': 35, 'kernel_regularizer_value': 3.717811381659974e-05, 'kernel_regularizer_value_2': 1.1358226465365556e-05, 'kernel_regularizer_value_3': 0.00016284209964575105, 'learning_rate': 4.316625644259446e-05, 'dropout_rate': 0.3047943550509954, 'batch_size': 64}. Best is trial 0 with value: 0.23076923191547394.\n"
     ]
    },
    {
     "name": "stderr",
     "output_type": "stream",
     "text": [
      "Best trial: 0. Best value: 0.230769:  10%|█         | 2/20 [00:22<03:32, 11.82s/it]"
     ]
    },
    {
     "name": "stdout",
     "output_type": "stream",
     "text": [
      "[I 2025-05-21 11:17:30,797] Trial 1 finished with value: 0.23076923191547394 and parameters: {'lstm_units_1': 88, 'lstm_units_2': 80, 'dense_units_1': 14, 'kernel_regularizer_value': 0.006189368302932588, 'kernel_regularizer_value_2': 0.0017021228414310647, 'kernel_regularizer_value_3': 0.0008821573700039352, 'learning_rate': 7.428181578452454e-05, 'dropout_rate': 0.46781958684774905, 'batch_size': 32}. Best is trial 0 with value: 0.23076923191547394.\n"
     ]
    },
    {
     "name": "stderr",
     "output_type": "stream",
     "text": [
      "Best trial: 0. Best value: 0.230769:  15%|█▌        | 3/20 [00:29<02:47,  9.88s/it]"
     ]
    },
    {
     "name": "stdout",
     "output_type": "stream",
     "text": [
      "[I 2025-05-21 11:17:38,376] Trial 2 finished with value: 0.23076923191547394 and parameters: {'lstm_units_1': 154, 'lstm_units_2': 43, 'dense_units_1': 38, 'kernel_regularizer_value': 0.0007882797345214144, 'kernel_regularizer_value_2': 1.6935979887651783e-05, 'kernel_regularizer_value_3': 0.00010206765535904588, 'learning_rate': 0.00030370673628465076, 'dropout_rate': 0.2206393286292619, 'batch_size': 64}. Best is trial 0 with value: 0.23076923191547394.\n"
     ]
    },
    {
     "name": "stderr",
     "output_type": "stream",
     "text": [
      "Best trial: 3. Best value: 0.318182:  20%|██        | 4/20 [00:46<03:21, 12.57s/it]"
     ]
    },
    {
     "name": "stdout",
     "output_type": "stream",
     "text": [
      "[I 2025-05-21 11:17:55,066] Trial 3 finished with value: 0.3181818127632141 and parameters: {'lstm_units_1': 243, 'lstm_units_2': 81, 'dense_units_1': 30, 'kernel_regularizer_value': 0.000773792608738587, 'kernel_regularizer_value_2': 0.00010859036464347166, 'kernel_regularizer_value_3': 0.00018464858436220377, 'learning_rate': 0.009180125484747234, 'dropout_rate': 0.22652850505208733, 'batch_size': 64}. Best is trial 3 with value: 0.3181818127632141.\n"
     ]
    },
    {
     "name": "stderr",
     "output_type": "stream",
     "text": [
      "Best trial: 3. Best value: 0.318182:  25%|██▌       | 5/20 [00:55<02:46, 11.09s/it]"
     ]
    },
    {
     "name": "stdout",
     "output_type": "stream",
     "text": [
      "[I 2025-05-21 11:18:03,532] Trial 4 finished with value: 0.23076923191547394 and parameters: {'lstm_units_1': 125, 'lstm_units_2': 33, 'dense_units_1': 60, 'kernel_regularizer_value': 3.0273377495265593e-05, 'kernel_regularizer_value_2': 3.656745156696315e-05, 'kernel_regularizer_value_3': 0.0018537712321322678, 'learning_rate': 2.1831105399037434e-05, 'dropout_rate': 0.27591940955140537, 'batch_size': 64}. Best is trial 3 with value: 0.3181818127632141.\n"
     ]
    },
    {
     "name": "stderr",
     "output_type": "stream",
     "text": [
      "Best trial: 3. Best value: 0.318182:  30%|███       | 6/20 [01:18<03:32, 15.15s/it]"
     ]
    },
    {
     "name": "stdout",
     "output_type": "stream",
     "text": [
      "[I 2025-05-21 11:18:26,573] Trial 5 finished with value: 0.0 and parameters: {'lstm_units_1': 255, 'lstm_units_2': 88, 'dense_units_1': 31, 'kernel_regularizer_value': 0.00010021359060609736, 'kernel_regularizer_value_2': 0.00828079089940283, 'kernel_regularizer_value_3': 0.00022814725677079099, 'learning_rate': 5.0573533650262453e-05, 'dropout_rate': 0.408811733396682, 'batch_size': 32}. Best is trial 3 with value: 0.3181818127632141.\n"
     ]
    },
    {
     "name": "stderr",
     "output_type": "stream",
     "text": [
      "Best trial: 3. Best value: 0.318182:  35%|███▌      | 7/20 [01:26<02:48, 12.94s/it]"
     ]
    },
    {
     "name": "stdout",
     "output_type": "stream",
     "text": [
      "[I 2025-05-21 11:18:34,943] Trial 6 finished with value: 0.23076923191547394 and parameters: {'lstm_units_1': 256, 'lstm_units_2': 34, 'dense_units_1': 25, 'kernel_regularizer_value': 6.742798397278231e-05, 'kernel_regularizer_value_2': 0.000227541971747041, 'kernel_regularizer_value_3': 0.00022969044541585373, 'learning_rate': 9.2914944185937e-05, 'dropout_rate': 0.4500304331895992, 'batch_size': 64}. Best is trial 3 with value: 0.3181818127632141.\n"
     ]
    },
    {
     "name": "stderr",
     "output_type": "stream",
     "text": [
      "Best trial: 3. Best value: 0.318182:  40%|████      | 8/20 [01:39<02:37, 13.12s/it]"
     ]
    },
    {
     "name": "stdout",
     "output_type": "stream",
     "text": [
      "[I 2025-05-21 11:18:48,450] Trial 7 finished with value: 0.23353293538093567 and parameters: {'lstm_units_1': 141, 'lstm_units_2': 94, 'dense_units_1': 52, 'kernel_regularizer_value': 0.00013744938258250888, 'kernel_regularizer_value_2': 0.00322357620706658, 'kernel_regularizer_value_3': 0.00010182473049266276, 'learning_rate': 0.003327589069778661, 'dropout_rate': 0.4680368303022818, 'batch_size': 128}. Best is trial 3 with value: 0.3181818127632141.\n"
     ]
    },
    {
     "name": "stderr",
     "output_type": "stream",
     "text": [
      "Best trial: 8. Best value: 0.555556:  45%|████▌     | 9/20 [01:53<02:25, 13.20s/it]"
     ]
    },
    {
     "name": "stdout",
     "output_type": "stream",
     "text": [
      "[I 2025-05-21 11:19:01,823] Trial 8 finished with value: 0.5555555820465088 and parameters: {'lstm_units_1': 89, 'lstm_units_2': 82, 'dense_units_1': 39, 'kernel_regularizer_value': 0.00026680282820959906, 'kernel_regularizer_value_2': 0.0048287372796197965, 'kernel_regularizer_value_3': 4.5009013102140245e-05, 'learning_rate': 0.00358375610189405, 'dropout_rate': 0.49188730190672025, 'batch_size': 64}. Best is trial 8 with value: 0.5555555820465088.\n"
     ]
    },
    {
     "name": "stderr",
     "output_type": "stream",
     "text": [
      "Best trial: 8. Best value: 0.555556:  50%|█████     | 10/20 [02:06<02:12, 13.29s/it]"
     ]
    },
    {
     "name": "stdout",
     "output_type": "stream",
     "text": [
      "[I 2025-05-21 11:19:15,336] Trial 9 finished with value: 0.23353293538093567 and parameters: {'lstm_units_1': 45, 'lstm_units_2': 17, 'dense_units_1': 13, 'kernel_regularizer_value': 4.2224501396485455e-05, 'kernel_regularizer_value_2': 0.007136029137916822, 'kernel_regularizer_value_3': 6.755324727466644e-05, 'learning_rate': 0.002902002083847929, 'dropout_rate': 0.2689168380186284, 'batch_size': 32}. Best is trial 8 with value: 0.5555555820465088.\n"
     ]
    },
    {
     "name": "stderr",
     "output_type": "stream",
     "text": [
      "Best trial: 8. Best value: 0.555556:  55%|█████▌    | 11/20 [02:21<02:03, 13.68s/it]"
     ]
    },
    {
     "name": "stdout",
     "output_type": "stream",
     "text": [
      "[I 2025-05-21 11:19:29,884] Trial 10 finished with value: 0.30882352590560913 and parameters: {'lstm_units_1': 190, 'lstm_units_2': 126, 'dense_units_1': 47, 'kernel_regularizer_value': 0.0005890750512415323, 'kernel_regularizer_value_2': 0.0008267885468620921, 'kernel_regularizer_value_3': 1.1068906753536737e-05, 'learning_rate': 0.000676881089049525, 'dropout_rate': 0.3653703460314144, 'batch_size': 128}. Best is trial 8 with value: 0.5555555820465088.\n"
     ]
    },
    {
     "name": "stderr",
     "output_type": "stream",
     "text": [
      "Best trial: 11. Best value: 1:  60%|██████    | 12/20 [02:31<01:41, 12.71s/it]      "
     ]
    },
    {
     "name": "stdout",
     "output_type": "stream",
     "text": [
      "[I 2025-05-21 11:19:40,390] Trial 11 finished with value: 1.0 and parameters: {'lstm_units_1': 199, 'lstm_units_2': 65, 'dense_units_1': 22, 'kernel_regularizer_value': 0.0018557259133207917, 'kernel_regularizer_value_2': 0.0001506725837199079, 'kernel_regularizer_value_3': 0.008124399978525354, 'learning_rate': 0.007332934966002386, 'dropout_rate': 0.20245329533525122, 'batch_size': 64}. Best is trial 11 with value: 1.0.\n"
     ]
    },
    {
     "name": "stderr",
     "output_type": "stream",
     "text": [
      "Best trial: 11. Best value: 1:  65%|██████▌   | 13/20 [02:46<01:33, 13.42s/it]"
     ]
    },
    {
     "name": "stdout",
     "output_type": "stream",
     "text": [
      "[I 2025-05-21 11:19:55,427] Trial 12 finished with value: 0.2857142984867096 and parameters: {'lstm_units_1': 194, 'lstm_units_2': 62, 'dense_units_1': 22, 'kernel_regularizer_value': 0.0034434668214506823, 'kernel_regularizer_value_2': 0.00047557135717691315, 'kernel_regularizer_value_3': 0.00807051296204913, 'learning_rate': 0.009815786623621894, 'dropout_rate': 0.35894388949531897, 'batch_size': 64}. Best is trial 11 with value: 1.0.\n"
     ]
    },
    {
     "name": "stderr",
     "output_type": "stream",
     "text": [
      "Best trial: 11. Best value: 1:  70%|███████   | 14/20 [03:12<01:42, 17.09s/it]"
     ]
    },
    {
     "name": "stdout",
     "output_type": "stream",
     "text": [
      "[I 2025-05-21 11:20:21,007] Trial 13 finished with value: 0.2460317462682724 and parameters: {'lstm_units_1': 101, 'lstm_units_2': 62, 'dense_units_1': 44, 'kernel_regularizer_value': 0.002482091104983681, 'kernel_regularizer_value_2': 0.00010340132481458484, 'kernel_regularizer_value_3': 1.748404096471274e-05, 'learning_rate': 0.0013197205599240625, 'dropout_rate': 0.3994531763171244, 'batch_size': 64}. Best is trial 11 with value: 1.0.\n"
     ]
    },
    {
     "name": "stderr",
     "output_type": "stream",
     "text": [
      "Best trial: 11. Best value: 1:  75%|███████▌  | 15/20 [03:39<01:39, 19.95s/it]"
     ]
    },
    {
     "name": "stdout",
     "output_type": "stream",
     "text": [
      "[I 2025-05-21 11:20:47,584] Trial 14 finished with value: 0.4000000059604645 and parameters: {'lstm_units_1': 198, 'lstm_units_2': 107, 'dense_units_1': 21, 'kernel_regularizer_value': 0.00025624331087364553, 'kernel_regularizer_value_2': 0.00015674820660595165, 'kernel_regularizer_value_3': 0.008045544762512971, 'learning_rate': 0.0034007537777095355, 'dropout_rate': 0.3140428125369865, 'batch_size': 128}. Best is trial 11 with value: 1.0.\n"
     ]
    },
    {
     "name": "stderr",
     "output_type": "stream",
     "text": [
      "Best trial: 11. Best value: 1:  80%|████████  | 16/20 [04:06<01:28, 22.14s/it]"
     ]
    },
    {
     "name": "stdout",
     "output_type": "stream",
     "text": [
      "[I 2025-05-21 11:21:14,818] Trial 15 finished with value: 1.0 and parameters: {'lstm_units_1': 93, 'lstm_units_2': 61, 'dense_units_1': 40, 'kernel_regularizer_value': 0.0012039727010745229, 'kernel_regularizer_value_2': 0.0009187134518699033, 'kernel_regularizer_value_3': 3.0234573826784597e-05, 'learning_rate': 0.00027506552204187626, 'dropout_rate': 0.20254258804498307, 'batch_size': 64}. Best is trial 11 with value: 1.0.\n"
     ]
    },
    {
     "name": "stderr",
     "output_type": "stream",
     "text": [
      "Best trial: 11. Best value: 1:  85%|████████▌ | 17/20 [04:41<01:18, 26.00s/it]"
     ]
    },
    {
     "name": "stdout",
     "output_type": "stream",
     "text": [
      "[I 2025-05-21 11:21:49,797] Trial 16 finished with value: 1.0 and parameters: {'lstm_units_1': 165, 'lstm_units_2': 56, 'dense_units_1': 8, 'kernel_regularizer_value': 1.1579079360060838e-05, 'kernel_regularizer_value_2': 0.0009637858117259875, 'kernel_regularizer_value_3': 0.0018751449209659743, 'learning_rate': 0.00021730226866815953, 'dropout_rate': 0.20334959938077654, 'batch_size': 64}. Best is trial 11 with value: 1.0.\n"
     ]
    },
    {
     "name": "stderr",
     "output_type": "stream",
     "text": [
      "Best trial: 11. Best value: 1:  90%|█████████ | 18/20 [05:02<00:49, 24.64s/it]"
     ]
    },
    {
     "name": "stdout",
     "output_type": "stream",
     "text": [
      "[I 2025-05-21 11:22:11,262] Trial 17 finished with value: 0.23076923191547394 and parameters: {'lstm_units_1': 209, 'lstm_units_2': 54, 'dense_units_1': 64, 'kernel_regularizer_value': 0.0015822248502077748, 'kernel_regularizer_value_2': 5.3503616547045656e-05, 'kernel_regularizer_value_3': 0.0005453502949135725, 'learning_rate': 0.0010966093493799344, 'dropout_rate': 0.25392758255460984, 'batch_size': 64}. Best is trial 11 with value: 1.0.\n"
     ]
    },
    {
     "name": "stderr",
     "output_type": "stream",
     "text": [
      "Best trial: 11. Best value: 1:  95%|█████████▌| 19/20 [05:20<00:22, 22.47s/it]"
     ]
    },
    {
     "name": "stdout",
     "output_type": "stream",
     "text": [
      "[I 2025-05-21 11:22:28,682] Trial 18 finished with value: 0.2269938588142395 and parameters: {'lstm_units_1': 222, 'lstm_units_2': 69, 'dense_units_1': 53, 'kernel_regularizer_value': 0.009120497972804835, 'kernel_regularizer_value_2': 0.0006411339352906605, 'kernel_regularizer_value_3': 2.5246849698601503e-05, 'learning_rate': 1.0373369174854554e-05, 'dropout_rate': 0.2444701649060631, 'batch_size': 128}. Best is trial 11 with value: 1.0.\n"
     ]
    },
    {
     "name": "stderr",
     "output_type": "stream",
     "text": [
      "Best trial: 11. Best value: 1: 100%|██████████| 20/20 [05:40<00:00, 17.00s/it]"
     ]
    },
    {
     "name": "stdout",
     "output_type": "stream",
     "text": [
      "[I 2025-05-21 11:22:48,559] Trial 19 finished with value: 0.5714285969734192 and parameters: {'lstm_units_1': 121, 'lstm_units_2': 100, 'dense_units_1': 27, 'kernel_regularizer_value': 0.0021140152422746577, 'kernel_regularizer_value_2': 0.0003347337805015569, 'kernel_regularizer_value_3': 0.0033830738306154053, 'learning_rate': 0.0001640463627840002, 'dropout_rate': 0.31028682802665697, 'batch_size': 32}. Best is trial 11 with value: 1.0.\n"
     ]
    },
    {
     "name": "stderr",
     "output_type": "stream",
     "text": [
      "\n"
     ]
    }
   ],
   "source": [
    "study = optuna.create_study(\n",
    "    direction=\"maximize\", \n",
    "    sampler=optuna.samplers.TPESampler(\n",
    "        multivariate=False), # Use TPE sampler for hyperparameter optimization\n",
    "    pruner=optuna.pruners.PercentilePruner(\n",
    "        percentile=25,\n",
    "        n_startup_trials=20,\n",
    "        n_warmup_steps=10\n",
    "    )) # Create a study to maximize the objective function\n",
    "\n",
    "study.optimize(\n",
    "    lambda trial: objective(\n",
    "        trial,\n",
    "        X_train, y_train,\n",
    "        X_test, y_test,\n",
    "        max_timesteps=X_train.shape[1],\n",
    "        n_features=X_train.shape[2]\n",
    "    ),\n",
    "    n_trials=20,\n",
    "    show_progress_bar=True\n",
    ")"
   ]
  },
  {
   "cell_type": "code",
   "execution_count": 167,
   "id": "6807e3c9",
   "metadata": {},
   "outputs": [
    {
     "data": {
      "text/plain": [
       "Text(0, 0.5, 'Cumulative explained variance')"
      ]
     },
     "execution_count": 167,
     "metadata": {},
     "output_type": "execute_result"
    },
    {
     "data": {
      "image/png": "[encoded data removed]",
      "text/plain": [
       "<Figure size 640x480 with 1 Axes>"
      ]
     },
     "metadata": {},
     "output_type": "display_data"
    }
   ],
   "source": [
    "from sklearn.decomposition import PCA\n",
    "import matplotlib.pyplot as plt\n",
    "\n",
    "pca = PCA(n_components=200)\n",
    "pca.fit(X_train.reshape(X_train.shape[0], -1)) # Fit PCA to the training data\n",
    "\n",
    "plt.plot(np.cumsum(pca.explained_variance_ratio_))\n",
    "plt.xlabel('Number of components')\n",
    "plt.ylabel('Cumulative explained variance')"
   ]
  },
  {
   "cell_type": "code",
   "execution_count": 244,
   "id": "412d8848",
   "metadata": {},
   "outputs": [
    {
     "name": "stdout",
     "output_type": "stream",
     "text": [
      "Best hyperparameters: {'lstm_units_1': 199, 'lstm_units_2': 65, 'dense_units_1': 22, 'kernel_regularizer_value': 0.0018557259133207917, 'kernel_regularizer_value_2': 0.0001506725837199079, 'kernel_regularizer_value_3': 0.008124399978525354, 'learning_rate': 0.007332934966002386, 'dropout_rate': 0.20245329533525122, 'batch_size': 64}\n"
     ]
    }
   ],
   "source": [
    "best_params = study.best_params # Get the best hyperparameters\n",
    "print(f\"Best hyperparameters: {best_params}\")"
   ]
  },
  {
   "cell_type": "code",
   "execution_count": 245,
   "id": "1c851852",
   "metadata": {},
   "outputs": [],
   "source": [
    "max_timesteps = X_train.shape[1]\n",
    "n_features = X_train.shape[2]\n",
    "final_model = Sequential([\n",
    "    Input(shape=(max_timesteps, n_features)),\n",
    "    Masking(mask_value=-1.0),  # Ignore padded zeros\n",
    "    Bidirectional(LSTM(\n",
    "        best_params[\"lstm_units_1\"],\n",
    "        activation=\"relu\",\n",
    "        dropout=best_params[\"dropout_rate\"],\n",
    "        recurrent_dropout=best_params[\"dropout_rate\"],\n",
    "        return_sequences=True,\n",
    "        kernel_regularizer=l2(best_params[\"kernel_regularizer_value\"])\n",
    "    )),\n",
    "    BatchNormalization(),\n",
    "    Bidirectional(LSTM(\n",
    "        best_params[\"lstm_units_2\"],\n",
    "        activation=\"relu\",\n",
    "        dropout=best_params[\"dropout_rate\"],\n",
    "        recurrent_dropout=best_params[\"dropout_rate\"],\n",
    "        kernel_regularizer=l2(best_params[\"kernel_regularizer_value_2\"])\n",
    "    )),\n",
    "    BatchNormalization(),\n",
    "    Dense(\n",
    "        best_params['dense_units_1'], \n",
    "        activation=\"relu\", \n",
    "        kernel_regularizer=l2(best_params[\"kernel_regularizer_value_3\"])\n",
    "        ),\n",
    "    Dense(1, activation=\"sigmoid\")\n",
    "])\n",
    "\n",
    "final_model.compile(\n",
    "    optimizer=Adam(learning_rate=best_params[\"learning_rate\"]),\n",
    "    loss=\"binary_focal_crossentropy\",\n",
    "    metrics=[\"binary_accuracy\"]\n",
    ")"
   ]
  },
  {
   "cell_type": "code",
   "execution_count": null,
   "id": "f26eb2dc",
   "metadata": {},
   "outputs": [],
   "source": [
    "from sklearn.metrics import roc_curve, roc_auc_score, confusion_matrix\n",
    "import matplotlib.pyplot as plt\n"
   ]
  },
  {
   "cell_type": "code",
   "execution_count": 246,
   "id": "b933c383",
   "metadata": {},
   "outputs": [
    {
     "name": "stdout",
     "output_type": "stream",
     "text": [
      "\u001b[1m6/6\u001b[0m \u001b[32m━━━━━━━━━━━━━━━━━━━━\u001b[0m\u001b[37m\u001b[0m \u001b[1m1s\u001b[0m 135ms/step\n"
     ]
    },
    {
     "data": {
      "image/png": "[encoded data removed]",
      "text/plain": [
       "<Figure size 800x600 with 1 Axes>"
      ]
     },
     "metadata": {},
     "output_type": "display_data"
    }
   ],
   "source": [
    "# Predict probabilities for the test set\n",
    "y_pred_proba = final_model.predict(X_test).ravel()  # Shape: (n_samples,)\n",
    "\n",
    "# True labels (must be binary: 0 or 1)\n",
    "y_true = y_test  # Ensure this is a 1D array of 0s and 1s\n",
    "\n",
    "fpr, tpr, thresholds = roc_curve(y_true, y_pred_proba)\n",
    "roc_auc = roc_auc_score(y_true, y_pred_proba)\n",
    "\n",
    "plt.figure(figsize=(8, 6))\n",
    "plt.plot(fpr, tpr, color='darkorange', lw=2, label=f'ROC curve (AUC = {roc_auc:.2f})')\n",
    "plt.plot([0, 1], [0, 1], color='navy', lw=2, linestyle='--', label='Random Guessing')\n",
    "plt.xlabel('False Positive Rate (FPR)')\n",
    "plt.ylabel('True Positive Rate (TPR)')\n",
    "plt.title('Receiver Operating Characteristic (ROC) Curve')\n",
    "plt.legend(loc=\"lower right\")\n",
    "plt.show()"
   ]
  },
  {
   "cell_type": "code",
   "execution_count": 247,
   "id": "4866dabb",
   "metadata": {},
   "outputs": [
    {
     "data": {
      "image/png": "[encoded data removed]",
      "text/plain": [
       "<Figure size 800x600 with 1 Axes>"
      ]
     },
     "metadata": {},
     "output_type": "display_data"
    }
   ],
   "source": [
    "plt.figure(figsize=(8, 6))\n",
    "plt.hist(y_pred_proba[y_true == 1], bins=50, alpha=0.5, label='Positive Class (1)', color='red')\n",
    "plt.hist(y_pred_proba[y_true == 0], bins=50, alpha=0.5, label='Negative Class (0)', color='blue')\n",
    "plt.xlabel('Predicted Probability')\n",
    "plt.ylabel('Frequency')\n",
    "plt.title('Distribution of Predicted Scores')\n",
    "plt.legend()\n",
    "plt.show()"
   ]
  },
  {
   "cell_type": "code",
   "execution_count": 216,
   "id": "d03e89cd",
   "metadata": {},
   "outputs": [
    {
     "name": "stdout",
     "output_type": "stream",
     "text": [
      "Optimal Threshold: 0.49\n"
     ]
    }
   ],
   "source": [
    "# Calculate Youden's J statistic\n",
    "youden_j = tpr - fpr\n",
    "optimal_idx = np.argmax(youden_j)\n",
    "optimal_threshold = thresholds[optimal_idx]\n",
    "\n",
    "print(f\"Optimal Threshold: {optimal_threshold:.2f}\")"
   ]
  },
  {
   "cell_type": "code",
   "execution_count": 217,
   "id": "84676a29",
   "metadata": {},
   "outputs": [
    {
     "data": {
      "image/png": "[encoded data removed]",
      "text/plain": [
       "<Figure size 640x480 with 2 Axes>"
      ]
     },
     "metadata": {},
     "output_type": "display_data"
    }
   ],
   "source": [
    "from sklearn.metrics import confusion_matrix, ConfusionMatrixDisplay\n",
    "\n",
    "# Convert probabilities to binary predictions using a threshold (default=0.5)\n",
    "y_pred = (y_pred_proba >= optimal_threshold).astype(int)\n",
    "\n",
    "# Plot confusion matrix\n",
    "cm = confusion_matrix(y_true, y_pred)\n",
    "disp = ConfusionMatrixDisplay(confusion_matrix=cm, display_labels=['Class 0', 'Class 1'])\n",
    "disp.plot(cmap='Blues')\n",
    "plt.title('Confusion Matrix')\n",
    "plt.show()"
   ]
  },
  {
   "cell_type": "code",
   "execution_count": 365,
   "id": "82dfd129",
   "metadata": {},
   "outputs": [
    {
     "name": "stdout",
     "output_type": "stream",
     "text": [
      "\u001b[1m5/5\u001b[0m \u001b[32m━━━━━━━━━━━━━━━━━━━━\u001b[0m\u001b[37m\u001b[0m \u001b[1m0s\u001b[0m 4ms/step - accuracy: 0.1369 - loss: nan  \n",
      "Test Loss: nan, Test Accuracy: 0.16339869797229767\n"
     ]
    }
   ],
   "source": [
    "test_loss, test_acc = final_model.evaluate(X_test, y_test)\n",
    "print(f\"Test Loss: {test_loss}, Test Accuracy: {test_acc}\")"
   ]
  },
  {
   "cell_type": "code",
   "execution_count": 230,
   "id": "56162f06",
   "metadata": {},
   "outputs": [],
   "source": [
    "import shap"
   ]
  },
  {
   "cell_type": "markdown",
   "id": "425fef18",
   "metadata": {},
   "source": [
    "# INS-W_1"
   ]
  },
  {
   "cell_type": "markdown",
   "id": "6aa3fb42",
   "metadata": {},
   "source": [
    "# Testing, ignore this section"
   ]
  },
  {
   "cell_type": "code",
   "execution_count": 11,
   "id": "0a4dd97a",
   "metadata": {},
   "outputs": [
    {
     "name": "stderr",
     "output_type": "stream",
     "text": [
      "2025-05-13 15:21:55,015 - INFO - PreprocessorLSTM initialized\n",
      "2025-05-13 15:21:55,133 - INFO - Created padded sequences with shape: (2360, 819)\n"
     ]
    }
   ],
   "source": [
    "TestModel = ModelLSTM() # Create an instance of the ModelLSTM class\n",
    "rapids_padded = TestModel.create_padded_sequences(rapids_weekly_float)"
   ]
  },
  {
   "cell_type": "code",
   "execution_count": null,
   "id": "55e789c3",
   "metadata": {},
   "outputs": [
    {
     "ename": "ValueError",
     "evalue": "The truth value of an array with more than one element is ambiguous. Use a.any() or a.all()",
     "output_type": "error",
     "traceback": [
      "\u001b[31m---------------------------------------------------------------------------\u001b[39m",
      "\u001b[31mValueError\u001b[39m                                Traceback (most recent call last)",
      "\u001b[36mCell\u001b[39m\u001b[36m \u001b[39m\u001b[32mIn[13]\u001b[39m\u001b[32m, line 1\u001b[39m\n\u001b[32m----> \u001b[39m\u001b[32m1\u001b[39m \u001b[38;5;28mprint\u001b[39m(\u001b[43mnp\u001b[49m\u001b[43m.\u001b[49m\u001b[43marange\u001b[49m\u001b[43m(\u001b[49m\u001b[43mrapids_padded\u001b[49m\u001b[43m)\u001b[49m.shape)\n",
      "\u001b[31mValueError\u001b[39m: The truth value of an array with more than one element is ambiguous. Use a.any() or a.all()"
     ]
    }
   ],
   "source": [
    "print(np.arange(len(rapids_padded)).shape)"
   ]
  },
  {
   "cell_type": "code",
   "execution_count": 49,
   "id": "8d46ef8d",
   "metadata": {},
   "outputs": [
    {
     "name": "stderr",
     "output_type": "stream",
     "text": [
      "2025-05-12 10:47:54,370 - ERROR - Error splitting data: too many indices for array: array is 1-dimensional, but 2 were indexed\n"
     ]
    }
   ],
   "source": [
    "x_train, x_test, y_train, y_test = PreprocessorLSTM.split_data(rapids_padded)"
   ]
  },
  {
   "cell_type": "code",
   "execution_count": 11,
   "id": "b0d71c51",
   "metadata": {},
   "outputs": [
    {
     "data": {
      "text/html": [
       "<div><style>\n",
       ".dataframe > thead > tr,\n",
       ".dataframe > tbody > tr {\n",
       "  text-align: right;\n",
       "  white-space: pre-wrap;\n",
       "}\n",
       "</style>\n",
       "<small>shape: (10, 820)</small><table border=\"1\" class=\"dataframe\"><thead><tr><th>pid</th><th>date</th><th>dep_weeklysubscale_endterm_merged_false</th><th>dep_weeklysubscale_endterm_merged_true</th><th>f_slp:fitbit_sleep_summary_rapids_sumdurationafterwakeupmain:14dhist</th><th>f_slp:fitbit_sleep_summary_rapids_sumdurationasleepmain:14dhist</th><th>f_slp:fitbit_sleep_summary_rapids_sumdurationawakemain:14dhist</th><th>f_slp:fitbit_sleep_summary_rapids_sumdurationtofallasleepmain:14dhist</th><th>f_slp:fitbit_sleep_summary_rapids_sumdurationinbedmain:14dhist</th><th>f_slp:fitbit_sleep_summary_rapids_avgefficiencymain:14dhist</th><th>f_slp:fitbit_sleep_summary_rapids_avgdurationafterwakeupmain:14dhist</th><th>f_slp:fitbit_sleep_summary_rapids_avgdurationasleepmain:14dhist</th><th>f_slp:fitbit_sleep_summary_rapids_avgdurationawakemain:14dhist</th><th>f_slp:fitbit_sleep_summary_rapids_avgdurationtofallasleepmain:14dhist</th><th>f_slp:fitbit_sleep_summary_rapids_avgdurationinbedmain:14dhist</th><th>f_slp:fitbit_sleep_summary_rapids_countepisodemain:14dhist</th><th>f_slp:fitbit_sleep_summary_rapids_firstbedtimemain:14dhist</th><th>f_slp:fitbit_sleep_summary_rapids_lastbedtimemain:14dhist</th><th>f_slp:fitbit_sleep_summary_rapids_firstwaketimemain:14dhist</th><th>f_slp:fitbit_sleep_summary_rapids_lastwaketimemain:14dhist</th><th>f_slp:fitbit_sleep_intraday_rapids_avgdurationasleepunifiedmain:14dhist</th><th>f_slp:fitbit_sleep_intraday_rapids_avgdurationawakeunifiedmain:14dhist</th><th>f_slp:fitbit_sleep_intraday_rapids_maxdurationasleepunifiedmain:14dhist</th><th>f_slp:fitbit_sleep_intraday_rapids_maxdurationawakeunifiedmain:14dhist</th><th>f_slp:fitbit_sleep_intraday_rapids_sumdurationasleepunifiedmain:14dhist</th><th>f_slp:fitbit_sleep_intraday_rapids_sumdurationawakeunifiedmain:14dhist</th><th>f_slp:fitbit_sleep_intraday_rapids_countepisodeasleepunifiedmain:14dhist</th><th>f_slp:fitbit_sleep_intraday_rapids_countepisodeawakeunifiedmain:14dhist</th><th>f_slp:fitbit_sleep_intraday_rapids_stddurationasleepunifiedmain:14dhist</th><th>f_slp:fitbit_sleep_intraday_rapids_stddurationawakeunifiedmain:14dhist</th><th>f_slp:fitbit_sleep_intraday_rapids_mindurationasleepunifiedmain:14dhist</th><th>f_slp:fitbit_sleep_intraday_rapids_mindurationawakeunifiedmain:14dhist</th><th>f_slp:fitbit_sleep_intraday_rapids_mediandurationasleepunifiedmain:14dhist</th><th>f_slp:fitbit_sleep_intraday_rapids_mediandurationawakeunifiedmain:14dhist</th><th>f_slp:fitbit_sleep_intraday_rapids_ratiocountasleepunifiedwithinmain:14dhist</th><th>f_slp:fitbit_sleep_intraday_rapids_ratiocountawakeunifiedwithinmain:14dhist</th><th>f_slp:fitbit_sleep_intraday_rapids_ratiodurationasleepunifiedwithinmain:14dhist</th><th>&hellip;</th><th>f_loc:phone_locations_barnett_probpause_norm:7dhist</th><th>f_loc:phone_locations_barnett_rog_norm:7dhist</th><th>f_loc:phone_locations_barnett_siglocentropy_norm:7dhist</th><th>f_loc:phone_locations_barnett_siglocsvisited_norm:7dhist</th><th>f_loc:phone_locations_barnett_stdflightdur_norm:7dhist</th><th>f_loc:phone_locations_barnett_stdflightlen_norm:7dhist</th><th>f_loc:phone_locations_barnett_wkenddayrtn_norm:7dhist</th><th>f_loc:phone_locations_doryab_avglengthstayatclusters_norm:7dhist</th><th>f_loc:phone_locations_doryab_avgspeed_norm:7dhist</th><th>f_loc:phone_locations_doryab_homelabel_norm:7dhist</th><th>f_loc:phone_locations_doryab_locationentropy_norm:7dhist</th><th>f_loc:phone_locations_doryab_locationvariance_norm:7dhist</th><th>f_loc:phone_locations_doryab_loglocationvariance_norm:7dhist</th><th>f_loc:phone_locations_doryab_maxlengthstayatclusters_norm:7dhist</th><th>f_loc:phone_locations_doryab_minlengthstayatclusters_norm:7dhist</th><th>f_loc:phone_locations_doryab_movingtostaticratio_norm:7dhist</th><th>f_loc:phone_locations_doryab_normalizedlocationentropy_norm:7dhist</th><th>f_loc:phone_locations_doryab_numberlocationtransitions_norm:7dhist</th><th>f_loc:phone_locations_doryab_numberofsignificantplaces_norm:7dhist</th><th>f_loc:phone_locations_doryab_outlierstimepercent_norm:7dhist</th><th>f_loc:phone_locations_doryab_radiusgyration_norm:7dhist</th><th>f_loc:phone_locations_doryab_stdlengthstayatclusters_norm:7dhist</th><th>f_loc:phone_locations_doryab_timeathome_norm:7dhist</th><th>f_loc:phone_locations_doryab_timeattop1location_norm:7dhist</th><th>f_loc:phone_locations_doryab_timeattop2location_norm:7dhist</th><th>f_loc:phone_locations_doryab_timeattop3location_norm:7dhist</th><th>f_loc:phone_locations_doryab_totaldistance_norm:7dhist</th><th>f_loc:phone_locations_doryab_varspeed_norm:7dhist</th><th>f_loc:phone_locations_locmap_duration_in_locmap_study_norm:7dhist</th><th>f_loc:phone_locations_locmap_percent_in_locmap_study_norm:7dhist</th><th>f_loc:phone_locations_locmap_duration_in_locmap_exercise_norm:7dhist</th><th>f_loc:phone_locations_locmap_percent_in_locmap_exercise_norm:7dhist</th><th>f_loc:phone_locations_locmap_duration_in_locmap_greens_norm:7dhist</th><th>f_loc:phone_locations_locmap_percent_in_locmap_greens_norm:7dhist</th><th>f_wifi:phone_wifi_connected_rapids_countscans_norm:7dhist</th><th>f_wifi:phone_wifi_connected_rapids_uniquedevices_norm:7dhist</th><th>f_wifi:phone_wifi_connected_rapids_countscansmostuniquedevice_norm:7dhist</th></tr><tr><td>i32</td><td>date</td><td>u8</td><td>u8</td><td>f64</td><td>f64</td><td>f64</td><td>f64</td><td>f64</td><td>f64</td><td>f64</td><td>f64</td><td>f64</td><td>f64</td><td>f64</td><td>f64</td><td>f64</td><td>f64</td><td>f64</td><td>f64</td><td>f64</td><td>f64</td><td>f64</td><td>f64</td><td>f64</td><td>f64</td><td>f64</td><td>f64</td><td>f64</td><td>f64</td><td>f64</td><td>f64</td><td>f64</td><td>f64</td><td>f64</td><td>f64</td><td>f64</td><td>&hellip;</td><td>f64</td><td>f64</td><td>f64</td><td>f64</td><td>f64</td><td>f64</td><td>f64</td><td>f64</td><td>f64</td><td>f64</td><td>f64</td><td>f64</td><td>f64</td><td>f64</td><td>f64</td><td>f64</td><td>f64</td><td>f64</td><td>f64</td><td>f64</td><td>f64</td><td>f64</td><td>f64</td><td>f64</td><td>f64</td><td>f64</td><td>f64</td><td>f64</td><td>f64</td><td>f64</td><td>f64</td><td>f64</td><td>f64</td><td>f64</td><td>f64</td><td>f64</td><td>f64</td></tr></thead><tbody><tr><td>1</td><td>2018-04-04</td><td>1</td><td>0</td><td>0.0</td><td>0.093041</td><td>0.016954</td><td>0.0</td><td>0.092651</td><td>0.867925</td><td>0.0</td><td>0.490092</td><td>0.097161</td><td>0.0</td><td>0.509579</td><td>0.133333</td><td>0.664553</td><td>0.687161</td><td>0.713582</td><td>0.603806</td><td>0.123021</td><td>0.140463</td><td>0.253021</td><td>0.124989</td><td>0.11734</td><td>0.021833</td><td>0.271134</td><td>0.017449</td><td>0.144736</td><td>0.1521</td><td>0.026507</td><td>0.10324</td><td>0.043685</td><td>0.112673</td><td>0.102509</td><td>0.905913</td><td>0.871094</td><td>&hellip;</td><td>0.609419</td><td>0.518666</td><td>0.459295</td><td>0.472384</td><td>0.383791</td><td>0.448952</td><td>0.438403</td><td>0.348326</td><td>0.513956</td><td>0.0</td><td>0.497736</td><td>0.534031</td><td>0.551363</td><td>0.536144</td><td>0.403216</td><td>0.462368</td><td>0.511755</td><td>0.458369</td><td>0.407266</td><td>0.317716</td><td>0.516602</td><td>0.402223</td><td>0.465916</td><td>0.547802</td><td>0.439564</td><td>0.378483</td><td>0.438629</td><td>0.317451</td><td>0.376704</td><td>0.385906</td><td>0.378761</td><td>0.398675</td><td>0.274647</td><td>0.32547</td><td>0.336787</td><td>0.348105</td><td>0.316142</td></tr><tr><td>1</td><td>2018-04-08</td><td>1</td><td>0</td><td>0.01182</td><td>0.339687</td><td>0.049046</td><td>0.0</td><td>0.333914</td><td>0.893082</td><td>0.022523</td><td>0.596433</td><td>0.093691</td><td>0.0</td><td>0.612175</td><td>0.4</td><td>0.634249</td><td>0.699096</td><td>0.764706</td><td>0.661246</td><td>0.121998</td><td>0.135132</td><td>0.345157</td><td>0.141564</td><td>0.337833</td><td>0.052292</td><td>0.287451</td><td>0.1669</td><td>0.151455</td><td>0.145222</td><td>0.017244</td><td>0.101366</td><td>0.043466</td><td>0.096922</td><td>0.098912</td><td>0.905287</td><td>0.891066</td><td>&hellip;</td><td>0.627651</td><td>0.517038</td><td>0.465076</td><td>0.543568</td><td>0.362298</td><td>0.447053</td><td>0.460403</td><td>0.368515</td><td>0.513698</td><td>0.0</td><td>0.483816</td><td>0.525127</td><td>0.549962</td><td>0.617473</td><td>0.394272</td><td>0.478384</td><td>0.495894</td><td>0.453336</td><td>0.407757</td><td>0.282597</td><td>0.513793</td><td>0.430388</td><td>0.54416</td><td>0.616798</td><td>0.415924</td><td>0.383443</td><td>0.443552</td><td>0.311207</td><td>0.408718</td><td>0.404391</td><td>0.3987</td><td>0.417286</td><td>0.345124</td><td>0.359358</td><td>0.421382</td><td>0.416981</td><td>0.416434</td></tr><tr><td>1</td><td>2018-04-11</td><td>1</td><td>0</td><td>0.01182</td><td>0.532288</td><td>0.065698</td><td>0.0</td><td>0.518635</td><td>0.907757</td><td>0.015015</td><td>0.623074</td><td>0.083666</td><td>0.0</td><td>0.633887</td><td>0.6</td><td>0.558844</td><td>0.699096</td><td>0.75435</td><td>0.649611</td><td>0.115555</td><td>0.112165</td><td>0.350906</td><td>0.144901</td><td>0.53306</td><td>0.064957</td><td>0.305628</td><td>0.268474</td><td>0.14422</td><td>0.12541</td><td>0.011267</td><td>0.100188</td><td>0.04365</td><td>0.07983</td><td>0.094605</td><td>0.904736</td><td>0.906447</td><td>&hellip;</td><td>0.641934</td><td>0.517407</td><td>0.469908</td><td>0.583079</td><td>0.350798</td><td>0.446441</td><td>0.473107</td><td>0.379823</td><td>0.512659</td><td>0.0</td><td>0.477636</td><td>0.521019</td><td>0.552425</td><td>0.656072</td><td>0.388106</td><td>0.482036</td><td>0.489459</td><td>0.452908</td><td>0.407238</td><td>0.270708</td><td>0.512939</td><td>0.446661</td><td>0.589792</td><td>0.649832</td><td>0.407105</td><td>0.385448</td><td>0.447612</td><td>0.309423</td><td>0.42659</td><td>0.413919</td><td>0.413205</td><td>0.426701</td><td>0.389336</td><td>0.371606</td><td>0.469639</td><td>0.462706</td><td>0.479704</td></tr><tr><td>1</td><td>2018-04-18</td><td>1</td><td>0</td><td>0.052009</td><td>0.782445</td><td>0.09779</td><td>0.0</td><td>0.765703</td><td>0.907112</td><td>0.045738</td><td>0.634082</td><td>0.086217</td><td>0.0</td><td>0.647903</td><td>0.866667</td><td>0.424595</td><td>0.746474</td><td>0.741276</td><td>0.634921</td><td>0.118672</td><td>0.124146</td><td>0.271186</td><td>0.195402</td><td>0.772186</td><td>0.098937</td><td>0.358209</td><td>0.359914</td><td>0.139153</td><td>0.168044</td><td>0.010101</td><td>0.1</td><td>0.037363</td><td>0.076923</td><td>0.08607</td><td>0.91393</td><td>0.897756</td><td>&hellip;</td><td>0.793154</td><td>0.43167</td><td>0.794586</td><td>0.499424</td><td>0.237571</td><td>0.299051</td><td>0.553364</td><td>0.414056</td><td>0.401915</td><td>0.0</td><td>0.389542</td><td>0.45987</td><td>0.473004</td><td>0.623381</td><td>0.388765</td><td>0.551272</td><td>0.526318</td><td>0.410903</td><td>0.328469</td><td>0.180639</td><td>0.43846</td><td>0.462924</td><td>0.530929</td><td>0.610621</td><td>0.382734</td><td>0.38056</td><td>0.376078</td><td>0.291474</td><td>0.415427</td><td>0.478331</td><td>0.3796</td><td>0.435981</td><td>0.361637</td><td>0.377584</td><td>0.49393</td><td>0.543688</td><td>0.402526</td></tr><tr><td>1</td><td>2018-04-22</td><td>1</td><td>0</td><td>0.040189</td><td>0.714734</td><td>0.091129</td><td>0.0</td><td>0.701614</td><td>0.904088</td><td>0.038288</td><td>0.627477</td><td>0.08704</td><td>0.0</td><td>0.643146</td><td>0.8</td><td>0.424595</td><td>0.746474</td><td>0.713084</td><td>0.603247</td><td>0.124494</td><td>0.13169</td><td>0.367666</td><td>0.195402</td><td>0.771497</td><td>0.098664</td><td>0.341151</td><td>0.338362</td><td>0.147807</td><td>0.187949</td><td>0.010101</td><td>0.1</td><td>0.03956</td><td>0.076923</td><td>0.092008</td><td>0.907992</td><td>0.897936</td><td>&hellip;</td><td>0.801192</td><td>0.612689</td><td>0.589495</td><td>0.797588</td><td>0.233678</td><td>0.535339</td><td>0.485436</td><td>0.366904</td><td>0.532871</td><td>0.0</td><td>0.551965</td><td>0.557861</td><td>0.655238</td><td>0.67948</td><td>0.353477</td><td>0.469403</td><td>0.513295</td><td>0.492052</td><td>0.420313</td><td>0.368434</td><td>0.561858</td><td>0.454755</td><td>0.694326</td><td>0.615664</td><td>0.439867</td><td>0.422545</td><td>0.524813</td><td>0.324633</td><td>0.437919</td><td>0.4458</td><td>0.384594</td><td>0.4275</td><td>0.472736</td><td>0.393942</td><td>0.566841</td><td>0.612135</td><td>0.594258</td></tr><tr><td>1</td><td>2018-05-02</td><td>1</td><td>0</td><td>0.023641</td><td>0.711724</td><td>0.139873</td><td>0.0</td><td>0.717404</td><td>0.856918</td><td>0.022523</td><td>0.624835</td><td>0.133596</td><td>0.0</td><td>0.65762</td><td>0.8</td><td>0.536998</td><td>0.780108</td><td>0.736654</td><td>0.629729</td><td>0.104387</td><td>0.154175</td><td>0.367666</td><td>0.183908</td><td>0.719667</td><td>0.127283</td><td>0.379531</td><td>0.372845</td><td>0.132202</td><td>0.199157</td><td>0.00505</td><td>0.1</td><td>0.028571</td><td>0.076923</td><td>0.096391</td><td>0.903609</td><td>0.861789</td><td>&hellip;</td><td>0.7435</td><td>0.435432</td><td>0.410851</td><td>0.598812</td><td>0.282515</td><td>0.308321</td><td>0.454431</td><td>0.425334</td><td>0.423559</td><td>0.0</td><td>0.354951</td><td>0.50104</td><td>0.562604</td><td>0.752148</td><td>0.331481</td><td>0.490942</td><td>0.450422</td><td>0.417509</td><td>0.401858</td><td>0.285897</td><td>0.495539</td><td>0.499238</td><td>0.583442</td><td>0.626098</td><td>0.612331</td><td>0.261141</td><td>0.419363</td><td>0.252539</td><td>0.535506</td><td>0.444833</td><td>0.293089</td><td>0.33344</td><td>0.880853</td><td>0.582071</td><td>0.680646</td><td>0.665372</td><td>0.673207</td></tr><tr><td>1</td><td>2018-05-09</td><td>1</td><td>0</td><td>0.016548</td><td>0.75185</td><td>0.125946</td><td>0.0</td><td>0.746198</td><td>0.880987</td><td>0.014553</td><td>0.609288</td><td>0.111041</td><td>0.0</td><td>0.631398</td><td>0.866667</td><td>0.451022</td><td>0.780108</td><td>0.736941</td><td>0.630051</td><td>0.112694</td><td>0.155766</td><td>0.445893</td><td>0.183908</td><td>0.737654</td><td>0.122649</td><td>0.360341</td><td>0.355603</td><td>0.145465</td><td>0.199335</td><td>0.010101</td><td>0.1</td><td>0.028571</td><td>0.076923</td><td>0.094311</td><td>0.905689</td><td>0.86948</td><td>&hellip;</td><td>0.433068</td><td>0.41777</td><td>0.556965</td><td>0.573965</td><td>0.526349</td><td>0.385178</td><td>0.434534</td><td>0.276719</td><td>0.475889</td><td>0.0</td><td>0.516325</td><td>0.486297</td><td>0.541377</td><td>0.526951</td><td>0.331481</td><td>0.3914</td><td>0.535909</td><td>0.440462</td><td>0.380572</td><td>0.262522</td><td>0.465885</td><td>0.333772</td><td>0.594638</td><td>0.639793</td><td>0.408385</td><td>0.336578</td><td>0.363615</td><td>0.24475</td><td>0.446782</td><td>0.578805</td><td>0.330847</td><td>0.417733</td><td>0.680668</td><td>0.673164</td><td>0.599664</td><td>0.574109</td><td>0.675087</td></tr><tr><td>1</td><td>2018-05-13</td><td>1</td><td>0</td><td>0.014184</td><td>0.831348</td><td>0.122616</td><td>0.0</td><td>0.818995</td><td>0.894879</td><td>0.011583</td><td>0.62559</td><td>0.100383</td><td>0.0</td><td>0.643496</td><td>0.933333</td><td>0.451022</td><td>0.670886</td><td>0.722051</td><td>0.613322</td><td>0.117218</td><td>0.14691</td><td>0.445893</td><td>0.195402</td><td>0.844447</td><td>0.126192</td><td>0.396588</td><td>0.387931</td><td>0.153533</td><td>0.19888</td><td>0.010101</td><td>0.1</td><td>0.026374</td><td>0.076923</td><td>0.098361</td><td>0.901639</td><td>0.881843</td><td>&hellip;</td><td>0.646358</td><td>0.53552</td><td>0.453942</td><td>0.723047</td><td>0.318338</td><td>0.362356</td><td>0.582125</td><td>0.335492</td><td>0.497846</td><td>0.0</td><td>0.499208</td><td>0.567387</td><td>0.62263</td><td>0.746287</td><td>0.331481</td><td>0.377691</td><td>0.445087</td><td>0.611333</td><td>0.515384</td><td>0.428742</td><td>0.538771</td><td>0.444174</td><td>0.797206</td><td>0.857544</td><td>0.402567</td><td>0.356577</td><td>0.582149</td><td>0.561927</td><td>0.446782</td><td>0.390272</td><td>0.461271</td><td>0.402246</td><td>0.76079</td><td>0.499902</td><td>0.713469</td><td>0.58932</td><td>0.987123</td></tr><tr><td>1</td><td>2018-05-16</td><td>1</td><td>0</td><td>0.014184</td><td>0.750972</td><td>0.108689</td><td>0.0</td><td>0.738303</td><td>0.896952</td><td>0.012474</td><td>0.608576</td><td>0.095826</td><td>0.0</td><td>0.624718</td><td>0.866667</td><td>0.451022</td><td>0.656058</td><td>0.706593</td><td>0.595954</td><td>0.126933</td><td>0.144894</td><td>0.445893</td><td>0.195402</td><td>0.752194</td><td>0.103025</td><td>0.326226</td><td>0.321121</td><td>0.149839</td><td>0.200203</td><td>0.010101</td><td>0.1</td><td>0.048352</td><td>0.076923</td><td>0.095475</td><td>0.904525</td><td>0.891119</td><td>&hellip;</td><td>0.751048</td><td>0.581439</td><td>0.431507</td><td>0.673353</td><td>0.272707</td><td>0.471796</td><td>0.628249</td><td>0.349088</td><td>0.51426</td><td>0.0</td><td>0.46168</td><td>0.593455</td><td>0.638413</td><td>0.821789</td><td>0.331481</td><td>0.477119</td><td>0.431798</td><td>0.547575</td><td>0.529575</td><td>0.380052</td><td>0.583044</td><td>0.484624</td><td>0.866008</td><td>0.930447</td><td>0.36234</td><td>0.400082</td><td>0.56509</td><td>0.603684</td><td>0.467213</td><td>0.386419</td><td>0.475452</td><td>0.398434</td><td>0.489778</td><td>0.378493</td><td>0.62334</td><td>0.536083</td><td>0.712682</td></tr><tr><td>1</td><td>2018-05-20</td><td>1</td><td>0</td><td>0.021277</td><td>0.735423</td><td>0.096882</td><td>0.0</td><td>0.719726</td><td>0.902758</td><td>0.018711</td><td>0.595976</td><td>0.085416</td><td>0.0</td><td>0.608999</td><td>0.866667</td><td>0.513742</td><td>0.643761</td><td>0.68295</td><td>0.56939</td><td>0.12825</td><td>0.143199</td><td>0.328553</td><td>0.195402</td><td>0.710328</td><td>0.094304</td><td>0.304904</td><td>0.297414</td><td>0.139067</td><td>0.203782</td><td>0.010101</td><td>0.1</td><td>0.043956</td><td>0.076923</td><td>0.099644</td><td>0.900356</td><td>0.89427</td><td>&hellip;</td><td>0.745854</td><td>0.539839</td><td>0.472311</td><td>0.648506</td><td>0.260699</td><td>0.493793</td><td>0.593629</td><td>0.291906</td><td>0.548304</td><td>0.0</td><td>0.50341</td><td>0.570371</td><td>0.624582</td><td>0.708708</td><td>0.331481</td><td>0.507823</td><td>0.443743</td><td>0.527173</td><td>0.52248</td><td>0.363173</td><td>0.573245</td><td>0.414054</td><td>0.763946</td><td>0.821258</td><td>0.357589</td><td>0.380859</td><td>0.482056</td><td>0.2713</td><td>0.470509</td><td>0.433424</td><td>0.416306</td><td>0.404983</td><td>0.409657</td><td>0.351287</td><td>0.496352</td><td>0.505662</td><td>0.458918</td></tr></tbody></table></div>"
      ],
      "text/plain": [
       "shape: (10, 820)\n",
       "┌─────┬────────────┬────────────┬────────────┬───┬────────────┬────────────┬───────────┬───────────┐\n",
       "│ pid ┆ date       ┆ dep_weekly ┆ dep_weekly ┆ … ┆ f_loc:phon ┆ f_wifi:pho ┆ f_wifi:ph ┆ f_wifi:ph │\n",
       "│ --- ┆ ---        ┆ subscale_e ┆ subscale_e ┆   ┆ e_location ┆ ne_wifi_co ┆ one_wifi_ ┆ one_wifi_ │\n",
       "│ i32 ┆ date       ┆ ndterm_mer ┆ ndterm_mer ┆   ┆ s_locmap_p ┆ nnected_ra ┆ connected ┆ connected │\n",
       "│     ┆            ┆ …          ┆ …          ┆   ┆ …          ┆ …          ┆ _ra…      ┆ _ra…      │\n",
       "│     ┆            ┆ ---        ┆ ---        ┆   ┆ ---        ┆ ---        ┆ ---       ┆ ---       │\n",
       "│     ┆            ┆ u8         ┆ u8         ┆   ┆ f64        ┆ f64        ┆ f64       ┆ f64       │\n",
       "╞═════╪════════════╪════════════╪════════════╪═══╪════════════╪════════════╪═══════════╪═══════════╡\n",
       "│ 1   ┆ 2018-04-04 ┆ 1          ┆ 0          ┆ … ┆ 0.32547    ┆ 0.336787   ┆ 0.348105  ┆ 0.316142  │\n",
       "│ 1   ┆ 2018-04-08 ┆ 1          ┆ 0          ┆ … ┆ 0.359358   ┆ 0.421382   ┆ 0.416981  ┆ 0.416434  │\n",
       "│ 1   ┆ 2018-04-11 ┆ 1          ┆ 0          ┆ … ┆ 0.371606   ┆ 0.469639   ┆ 0.462706  ┆ 0.479704  │\n",
       "│ 1   ┆ 2018-04-18 ┆ 1          ┆ 0          ┆ … ┆ 0.377584   ┆ 0.49393    ┆ 0.543688  ┆ 0.402526  │\n",
       "│ 1   ┆ 2018-04-22 ┆ 1          ┆ 0          ┆ … ┆ 0.393942   ┆ 0.566841   ┆ 0.612135  ┆ 0.594258  │\n",
       "│ 1   ┆ 2018-05-02 ┆ 1          ┆ 0          ┆ … ┆ 0.582071   ┆ 0.680646   ┆ 0.665372  ┆ 0.673207  │\n",
       "│ 1   ┆ 2018-05-09 ┆ 1          ┆ 0          ┆ … ┆ 0.673164   ┆ 0.599664   ┆ 0.574109  ┆ 0.675087  │\n",
       "│ 1   ┆ 2018-05-13 ┆ 1          ┆ 0          ┆ … ┆ 0.499902   ┆ 0.713469   ┆ 0.58932   ┆ 0.987123  │\n",
       "│ 1   ┆ 2018-05-16 ┆ 1          ┆ 0          ┆ … ┆ 0.378493   ┆ 0.62334    ┆ 0.536083  ┆ 0.712682  │\n",
       "│ 1   ┆ 2018-05-20 ┆ 1          ┆ 0          ┆ … ┆ 0.351287   ┆ 0.496352   ┆ 0.505662  ┆ 0.458918  │\n",
       "└─────┴────────────┴────────────┴────────────┴───┴────────────┴────────────┴───────────┴───────────┘"
      ]
     },
     "execution_count": 11,
     "metadata": {},
     "output_type": "execute_result"
    }
   ],
   "source": [
    "rapids_weekly.head(10)"
   ]
  },
  {
   "cell_type": "code",
   "execution_count": 13,
   "id": "18e83401",
   "metadata": {},
   "outputs": [],
   "source": [
    "target = rapids_weekly.select(\"dep_weeklysubscale_endterm_merged_true\").to_numpy().tolist()\n",
    "features = rapids_weekly.to_numpy().tolist()"
   ]
  },
  {
   "cell_type": "code",
   "execution_count": null,
   "id": "111e7469",
   "metadata": {},
   "outputs": [],
   "source": [
    "sleep_1 = preprocessor_INS_W1.import_csv_feature_data(\"sleep\")\n",
    "wifi_1 = preprocessor_INS_W1.import_csv_feature_data(\"wifi\")\n",
    "bluetooth_1 = preprocessor_INS_W1.import_csv_feature_data(\"bluetooth\")\n",
    "call_1 = preprocessor_INS_W1.import_csv_feature_data(\"call\")\n",
    "location_1 = preprocessor_INS_W1.import_csv_feature_data(\"location\")\n",
    "screen_1 = preprocessor_INS_W1.import_csv_feature_data(\"screen\")\n",
    "steps_1 = preprocessor_INS_W1.import_csv_feature_data(\"steps\")"
   ]
  },
  {
   "cell_type": "code",
   "execution_count": 120,
   "id": "f7af79e0",
   "metadata": {},
   "outputs": [],
   "source": [
    "sleep_wifi_temp_1 = preprocessor_INS_W1.merge_survey_to_feature(sleep_1, wifi_1, join_type=\"inner\")\n",
    "bluetooth_call_temp_1 = preprocessor_INS_W1.merge_survey_to_feature(bluetooth_1, call_1, join_type=\"inner\")\n",
    "location_screen_temp_1 = preprocessor_INS_W1.merge_survey_to_feature(location_1, screen_1, join_type=\"inner\")\n",
    "\n",
    "sleep_wifi_steps_1 = preprocessor_INS_W1.merge_survey_to_feature(sleep_wifi_temp_1, steps_1, join_type=\"inner\")\n",
    "bluetooth_call_location_screen = preprocessor_INS_W1.merge_survey_to_feature(bluetooth_call_temp_1, location_screen_temp_1, join_type=\"inner\")\n",
    "merged_all_temp = preprocessor_INS_W1.merge_survey_to_feature(sleep_wifi_steps_1, bluetooth_call_location_screen, join_type=\"inner\")"
   ]
  }
 ],
 "metadata": {
  "kernelspec": {
   "display_name": "Python 3",
   "language": "python",
   "name": "python3"
  },
  "language_info": {
   "codemirror_mode": {
    "name": "ipython",
    "version": 3
   },
   "file_extension": ".py",
   "mimetype": "text/x-python",
   "name": "python",
   "nbconvert_exporter": "python",
   "pygments_lexer": "ipython3",
   "version": "3.12.3"
  }
 },
 "nbformat": 4,
 "nbformat_minor": 5
}
